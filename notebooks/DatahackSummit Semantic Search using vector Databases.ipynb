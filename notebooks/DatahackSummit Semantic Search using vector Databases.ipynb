{
 "cells": [
  {
   "cell_type": "markdown",
   "id": "81e03b93",
   "metadata": {},
   "source": [
    "# Building Your Own Search Engine Using Vector Databases\n"
   ]
  },
  {
   "cell_type": "markdown",
   "id": "c24e8918",
   "metadata": {
    "ExecuteTime": {
     "end_time": "2023-07-05T08:40:26.682054Z",
     "start_time": "2023-07-05T08:40:26.542951Z"
    }
   },
   "source": [
    "![img](https://www.analyticsvidhya.com/datahack-summit-2023/wp-content/uploads/2023/07/s-won_searchengin.jpg)"
   ]
  },
  {
   "cell_type": "markdown",
   "id": "9cef2022",
   "metadata": {},
   "source": [
    "## Agenda \n",
    "\n",
    "**Part 0: The Beginning**\n",
    "\n",
    "Welcome and Objectives : An introduction to the session's aims, a brief ice breaker activity, and setting the stage for the exploration ahead.\n",
    "\n",
    "Context Setting: A quick overview of AI, Search Engines, the current landscape, potential use-cases, benefits, and challenges. Highlight the significance of building an AI search engine with your data.\n",
    "\n",
    "**Part 1: Understanding the Basics**\n",
    "\n",
    "NLP and Search Engines: Explore the components like Natural Language Processing (NLP), Machine Learning algorithms, and their roles in crafting an efficient AI search engine. Topics include\n",
    "\n",
    "\n",
    "- What are vector embeddings?\n",
    "- Legacy vectorizing techniques like CountVectorizer, bag of words\n",
    "- Similarity measures and how do they work\n",
    "- LLM and Transformers\n",
    "\n",
    "Vector Databases\n",
    "  - An Exploration:\n",
    "  - Unveiling Vector Databases\n",
    "  - Understanding their workings\n",
    "  - Real-world use-cases\n",
    "  - A comparative analysis of available options\n",
    "\n",
    "**Part 2: Indexing**\n",
    "\n",
    "Splitting the data : Why is it required and different kinds of Data splitting. Also cover why splitting is context dependent (i.e depends on data)\n",
    "\n",
    "The next step is to insert the data into the database\n",
    "\n",
    "\n",
    "**Part 3: Searching**\n",
    "\n",
    "Performing Semantic Search on Indexed Data: Discuss and code the integration of NLP and Machine Learning algorithms into the search engine to comprehend, analyze, and generate precise search results from the given data. Employ Command line tools (or maybe a GUI) to execute the searches.\n",
    "\n",
    "Discuss Different Retrieval algorithms such as\n",
    "* MMR\n",
    "* LLM Aided Retrieval\n",
    "* Compression\n",
    "\n",
    "**Part 4: Question and answering**\n",
    "\n",
    "- Prompt Engineering and templates \n",
    "- Addressing a lot of windows and short context windows\n",
    "\n",
    "**Part 5: Chat**\n",
    "\n",
    "- Introducing memory\n",
    "- Followup conversations\n",
    "\n",
    "\n",
    "**Wrap-Up and Next Steps**\n",
    "\n",
    "Conclusion and Future Directions: Discuss steps to enhance the solution and where to go from here, providing a clear path for continued exploration and development.\n",
    "\n",
    "**References and Resources**\n",
    "\n",
    "\n",
    "## Checkbox\n",
    "\n",
    "\n",
    "### Demo Checkbox\n",
    "\n",
    "- [X]  **Part 1: Understanding the Basics**\n",
    "- [X]  **Part 2: Indexing**\n",
    "- [X]  **Part 3: Semantic search with vector db**\n",
    "- [X]  **Part 4: Question and answering**\n",
    "- [X]  **Part 5: Chat**\n",
    "\n",
    "\n",
    "### Theory material Checkbox\n",
    "\n",
    "- [X]  **Part 1: Understanding the Basics**\n",
    "- [X]  **Part 2: Indexing**\n",
    "- [X]  **Part 3: Semantic search with vector db**\n",
    "- [X]  **Part 4: Question and answering**\n",
    "- [X]  **Part 5: Chat**"
   ]
  },
  {
   "cell_type": "markdown",
   "id": "3e64b282",
   "metadata": {},
   "source": [
    "## Libraries and Technologies we will use\n",
    "\n",
    "1) Pre Trained Large Language Model (LLM) like ChatGPT for vector Embedding\n",
    "2) Langchain for Supporting our model application\n",
    "3) Vector Database like Chroma\n",
    "4) Gradio\n",
    "\n",
    "\n",
    "## Generic Architecture\n",
    "\n",
    "![arch](https://ghost.hacksoft.io/content/images/2023/04/answering_questions.png)"
   ]
  },
  {
   "cell_type": "markdown",
   "id": "fb888ac7",
   "metadata": {},
   "source": [
    "# Hands On Coding\n",
    "\n",
    "## Dependencies Installation and Loading data"
   ]
  },
  {
   "cell_type": "code",
   "execution_count": 1,
   "id": "39fcfbe5",
   "metadata": {
    "ExecuteTime": {
     "end_time": "2023-08-01T20:02:08.392922Z",
     "start_time": "2023-08-01T20:02:08.389079Z"
    }
   },
   "outputs": [],
   "source": [
    "#!pip install langchain openai chromadb kaggle sentence_transformers datasets gradio elasticsearch tiktoken"
   ]
  },
  {
   "cell_type": "code",
   "execution_count": 2,
   "id": "a3134955",
   "metadata": {
    "ExecuteTime": {
     "end_time": "2023-08-01T20:02:08.408972Z",
     "start_time": "2023-08-01T20:02:08.400812Z"
    }
   },
   "outputs": [],
   "source": [
    "import os.path\n",
    "if not os.path.isfile(\"database.sqlite\"):\n",
    "    os.system(\"kaggle datasets download benhamner/nips-papersv\")\n",
    "    os.system(\"unzip -o nips-papers.zip\")"
   ]
  },
  {
   "cell_type": "code",
   "execution_count": 3,
   "id": "f26bdddf",
   "metadata": {
    "ExecuteTime": {
     "end_time": "2023-08-01T20:02:20.273870Z",
     "start_time": "2023-08-01T20:02:08.413734Z"
    }
   },
   "outputs": [],
   "source": [
    "import os\n",
    "import numpy as np\n",
    "import pandas as pd\n",
    "from langchain.llms import OpenAI\n",
    "from langchain.vectorstores import Chroma\n",
    "from langchain.text_splitter import RecursiveCharacterTextSplitter, CharacterTextSplitter\n",
    "import sqlite3\n",
    "from PyPDF2 import PdfReader\n"
   ]
  },
  {
   "cell_type": "code",
   "execution_count": 4,
   "id": "d7b4e167",
   "metadata": {
    "ExecuteTime": {
     "end_time": "2023-08-01T20:02:23.335077Z",
     "start_time": "2023-08-01T20:02:20.302989Z"
    }
   },
   "outputs": [],
   "source": [
    "con = sqlite3.connect(\"database.sqlite\")\n",
    "\n",
    "sql= \"\"\"WITH paper_author_list AS (\n",
    "    SELECT papers.id AS paper_id, Group_concat(authors.name) AS author_list\n",
    "    FROM papers\n",
    "    JOIN paper_authors ON papers.id = paper_authors.paper_id\n",
    "    JOIN authors ON paper_authors.author_id = authors.id\n",
    "    GROUP BY paper_id\n",
    ")\n",
    "SELECT papers.id AS paper_id, papers.year, papers.title, papers.abstract, papers.paper_text, paper_author_list.author_list AS authors\n",
    "FROM papers\n",
    "JOIN paper_author_list ON papers.id = paper_author_list.paper_id\n",
    "WHERE abstract NOT LIKE '%Abstract Missing%'\n",
    "\n",
    "\"\"\";\n",
    "\n",
    "papers_df = pd.read_sql_query(sql, con)"
   ]
  },
  {
   "cell_type": "code",
   "execution_count": 5,
   "id": "481493fc",
   "metadata": {
    "ExecuteTime": {
     "end_time": "2023-08-01T20:02:23.462790Z",
     "start_time": "2023-08-01T20:02:23.337783Z"
    }
   },
   "outputs": [
    {
     "data": {
      "text/html": [
       "<div>\n",
       "<style scoped>\n",
       "    .dataframe tbody tr th:only-of-type {\n",
       "        vertical-align: middle;\n",
       "    }\n",
       "\n",
       "    .dataframe tbody tr th {\n",
       "        vertical-align: top;\n",
       "    }\n",
       "\n",
       "    .dataframe thead th {\n",
       "        text-align: right;\n",
       "    }\n",
       "</style>\n",
       "<table border=\"1\" class=\"dataframe\">\n",
       "  <thead>\n",
       "    <tr style=\"text-align: right;\">\n",
       "      <th></th>\n",
       "      <th>paper_id</th>\n",
       "      <th>year</th>\n",
       "      <th>title</th>\n",
       "      <th>abstract</th>\n",
       "      <th>paper_text</th>\n",
       "      <th>authors</th>\n",
       "    </tr>\n",
       "  </thead>\n",
       "  <tbody>\n",
       "    <tr>\n",
       "      <th>0</th>\n",
       "      <td>1861</td>\n",
       "      <td>2000</td>\n",
       "      <td>Algorithms for Non-negative Matrix Factorization</td>\n",
       "      <td>Non-negative matrix factorization (NMF) has pr...</td>\n",
       "      <td>Algorithms for Non-negative Matrix\\nFactorizat...</td>\n",
       "      <td>Daniel D. Lee,H. Sebastian Seung</td>\n",
       "    </tr>\n",
       "    <tr>\n",
       "      <th>1</th>\n",
       "      <td>1975</td>\n",
       "      <td>2001</td>\n",
       "      <td>Characterizing Neural Gain Control using Spike...</td>\n",
       "      <td>Spike-triggered averaging techniques are effec...</td>\n",
       "      <td>Characterizing neural gain control using\\nspik...</td>\n",
       "      <td>Odelia Schwartz,E.J. Chichilnisky,Eero P. Simo...</td>\n",
       "    </tr>\n",
       "    <tr>\n",
       "      <th>2</th>\n",
       "      <td>3163</td>\n",
       "      <td>2007</td>\n",
       "      <td>Competition Adds Complexity</td>\n",
       "      <td>It is known that determinining whether a DEC-P...</td>\n",
       "      <td>Competition adds complexity\\n\\nJudy Goldsmith\\...</td>\n",
       "      <td>Judy Goldsmith,Martin Mundhenk</td>\n",
       "    </tr>\n",
       "    <tr>\n",
       "      <th>3</th>\n",
       "      <td>3164</td>\n",
       "      <td>2007</td>\n",
       "      <td>Efficient Principled Learning of Thin Junction...</td>\n",
       "      <td>We present the first truly polynomial algorith...</td>\n",
       "      <td>Efficient Principled Learning of Thin Junction...</td>\n",
       "      <td>Anton Chechetka,Carlos Guestrin</td>\n",
       "    </tr>\n",
       "    <tr>\n",
       "      <th>4</th>\n",
       "      <td>3167</td>\n",
       "      <td>2007</td>\n",
       "      <td>Regularized Boost for Semi-Supervised Learning</td>\n",
       "      <td>Semi-supervised inductive learning concerns ho...</td>\n",
       "      <td>Regularized Boost for Semi-Supervised Learning...</td>\n",
       "      <td>Ke Chen,Shihai Wang</td>\n",
       "    </tr>\n",
       "  </tbody>\n",
       "</table>\n",
       "</div>"
      ],
      "text/plain": [
       "   paper_id  year                                              title  \\\n",
       "0      1861  2000   Algorithms for Non-negative Matrix Factorization   \n",
       "1      1975  2001  Characterizing Neural Gain Control using Spike...   \n",
       "2      3163  2007                        Competition Adds Complexity   \n",
       "3      3164  2007  Efficient Principled Learning of Thin Junction...   \n",
       "4      3167  2007     Regularized Boost for Semi-Supervised Learning   \n",
       "\n",
       "                                            abstract  \\\n",
       "0  Non-negative matrix factorization (NMF) has pr...   \n",
       "1  Spike-triggered averaging techniques are effec...   \n",
       "2  It is known that determinining whether a DEC-P...   \n",
       "3  We present the first truly polynomial algorith...   \n",
       "4  Semi-supervised inductive learning concerns ho...   \n",
       "\n",
       "                                          paper_text  \\\n",
       "0  Algorithms for Non-negative Matrix\\nFactorizat...   \n",
       "1  Characterizing neural gain control using\\nspik...   \n",
       "2  Competition adds complexity\\n\\nJudy Goldsmith\\...   \n",
       "3  Efficient Principled Learning of Thin Junction...   \n",
       "4  Regularized Boost for Semi-Supervised Learning...   \n",
       "\n",
       "                                             authors  \n",
       "0                   Daniel D. Lee,H. Sebastian Seung  \n",
       "1  Odelia Schwartz,E.J. Chichilnisky,Eero P. Simo...  \n",
       "2                     Judy Goldsmith,Martin Mundhenk  \n",
       "3                    Anton Chechetka,Carlos Guestrin  \n",
       "4                                Ke Chen,Shihai Wang  "
      ]
     },
     "execution_count": 5,
     "metadata": {},
     "output_type": "execute_result"
    }
   ],
   "source": [
    "papers_df.head()"
   ]
  },
  {
   "cell_type": "code",
   "execution_count": 6,
   "id": "58712470",
   "metadata": {
    "ExecuteTime": {
     "end_time": "2023-08-01T20:02:23.471737Z",
     "start_time": "2023-08-01T20:02:23.465981Z"
    }
   },
   "outputs": [],
   "source": [
    "def pre_process_text(papers_df, column):\n",
    "    \n",
    "    # Load the regular expression library\n",
    "    import re\n",
    "    preprocessed_column = f\"{column}_processed\"\n",
    "\n",
    "    # Print the titles of the first rows \n",
    "    print(papers_df[column].head())\n",
    "\n",
    "    # remove punctuations\n",
    "    #papers_df[preprocessed_column] = papers_df[column].map(lambda x: re.sub('[,!?]', '', x))\n",
    "    \n",
    "     # remove carriage return and end of line\n",
    "    papers_df[preprocessed_column] = papers_df[column].map(lambda x: re.sub('[\\r\\n]', ' ', x))\n",
    "    \n",
    "     # remove double spaces\n",
    "    papers_df[preprocessed_column] = papers_df[preprocessed_column].map(lambda x: re.sub('  ', ' ', x))\n",
    "\n",
    "    \n",
    "    # remove para continuation\n",
    "    papers_df[preprocessed_column] = papers_df[preprocessed_column].map(lambda x: re.sub('- ', '', x))\n",
    "\n",
    "    # Convert the titles to lowercase\n",
    "    papers_df[preprocessed_column] = papers_df[preprocessed_column].map(lambda x: x.lower())\n",
    "    return papers_df.head()"
   ]
  },
  {
   "cell_type": "code",
   "execution_count": 7,
   "id": "1362e65f",
   "metadata": {
    "ExecuteTime": {
     "end_time": "2023-08-01T20:02:27.083650Z",
     "start_time": "2023-08-01T20:02:23.474864Z"
    }
   },
   "outputs": [
    {
     "name": "stdout",
     "output_type": "stream",
     "text": [
      "0     Algorithms for Non-negative Matrix Factorization\n",
      "1    Characterizing Neural Gain Control using Spike...\n",
      "2                          Competition Adds Complexity\n",
      "3    Efficient Principled Learning of Thin Junction...\n",
      "4       Regularized Boost for Semi-Supervised Learning\n",
      "Name: title, dtype: object\n",
      "0    Non-negative matrix factorization (NMF) has pr...\n",
      "1    Spike-triggered averaging techniques are effec...\n",
      "2    It is known that determinining whether a DEC-P...\n",
      "3    We present the first truly polynomial algorith...\n",
      "4    Semi-supervised inductive learning concerns ho...\n",
      "Name: abstract, dtype: object\n",
      "0    Algorithms for Non-negative Matrix\\nFactorizat...\n",
      "1    Characterizing neural gain control using\\nspik...\n",
      "2    Competition adds complexity\\n\\nJudy Goldsmith\\...\n",
      "3    Efficient Principled Learning of Thin Junction...\n",
      "4    Regularized Boost for Semi-Supervised Learning...\n",
      "Name: paper_text, dtype: object\n"
     ]
    }
   ],
   "source": [
    "text_columns = [\"title\", \"abstract\", \"paper_text\"]\n",
    "for column in text_columns:\n",
    "    pre_process_text(papers_df, column)"
   ]
  },
  {
   "cell_type": "code",
   "execution_count": 8,
   "id": "1b7b97d8",
   "metadata": {
    "ExecuteTime": {
     "end_time": "2023-08-01T20:02:27.089458Z",
     "start_time": "2023-08-01T20:02:27.085623Z"
    }
   },
   "outputs": [
    {
     "data": {
      "text/plain": [
       "'non-negative matrix factorization (nmf) has previously been shown to  be a useful decomposition for multivariate data. two different multi plicative algorithms for nmf are analyzed. they differ only slightly in  the multiplicative factor used in the update rules. one algorithm can be  shown to minimize the conventional least squares error while the other  minimizes the generalized kullback-leibler divergence. the monotonic  convergence of both algorithms can be proven using an auxiliary func tion analogous to that used for proving convergence of the expectation maximization algorithm. the algorithms can also be interpreted as diag onally rescaled gradient descent, where the rescaling factor is optimally  chosen to ensure convergence. '"
      ]
     },
     "execution_count": 8,
     "metadata": {},
     "output_type": "execute_result"
    }
   ],
   "source": [
    "papers_df.abstract_processed[0]\n"
   ]
  },
  {
   "cell_type": "code",
   "execution_count": 9,
   "id": "5d05f13e",
   "metadata": {
    "ExecuteTime": {
     "end_time": "2023-08-01T20:02:27.103647Z",
     "start_time": "2023-08-01T20:02:27.091389Z"
    }
   },
   "outputs": [
    {
     "data": {
      "text/html": [
       "<div>\n",
       "<style scoped>\n",
       "    .dataframe tbody tr th:only-of-type {\n",
       "        vertical-align: middle;\n",
       "    }\n",
       "\n",
       "    .dataframe tbody tr th {\n",
       "        vertical-align: top;\n",
       "    }\n",
       "\n",
       "    .dataframe thead th {\n",
       "        text-align: right;\n",
       "    }\n",
       "</style>\n",
       "<table border=\"1\" class=\"dataframe\">\n",
       "  <thead>\n",
       "    <tr style=\"text-align: right;\">\n",
       "      <th></th>\n",
       "      <th>paper_id</th>\n",
       "      <th>year</th>\n",
       "      <th>authors</th>\n",
       "      <th>title_processed</th>\n",
       "      <th>abstract_processed</th>\n",
       "      <th>paper_text_processed</th>\n",
       "    </tr>\n",
       "  </thead>\n",
       "  <tbody>\n",
       "    <tr>\n",
       "      <th>0</th>\n",
       "      <td>1861</td>\n",
       "      <td>2000</td>\n",
       "      <td>Daniel D. Lee,H. Sebastian Seung</td>\n",
       "      <td>algorithms for non-negative matrix factorization</td>\n",
       "      <td>non-negative matrix factorization (nmf) has pr...</td>\n",
       "      <td>algorithms for non-negative matrix factorizati...</td>\n",
       "    </tr>\n",
       "    <tr>\n",
       "      <th>1</th>\n",
       "      <td>1975</td>\n",
       "      <td>2001</td>\n",
       "      <td>Odelia Schwartz,E.J. Chichilnisky,Eero P. Simo...</td>\n",
       "      <td>characterizing neural gain control using spike...</td>\n",
       "      <td>spike-triggered averaging techniques are effec...</td>\n",
       "      <td>characterizing neural gain control using spike...</td>\n",
       "    </tr>\n",
       "    <tr>\n",
       "      <th>2</th>\n",
       "      <td>3163</td>\n",
       "      <td>2007</td>\n",
       "      <td>Judy Goldsmith,Martin Mundhenk</td>\n",
       "      <td>competition adds complexity</td>\n",
       "      <td>it is known that determinining whether a dec-p...</td>\n",
       "      <td>competition adds complexity judy goldsmith dep...</td>\n",
       "    </tr>\n",
       "    <tr>\n",
       "      <th>3</th>\n",
       "      <td>3164</td>\n",
       "      <td>2007</td>\n",
       "      <td>Anton Chechetka,Carlos Guestrin</td>\n",
       "      <td>efficient principled learning of thin junction...</td>\n",
       "      <td>we present the first truly polynomial algorith...</td>\n",
       "      <td>efficient principled learning of thin junction...</td>\n",
       "    </tr>\n",
       "    <tr>\n",
       "      <th>4</th>\n",
       "      <td>3167</td>\n",
       "      <td>2007</td>\n",
       "      <td>Ke Chen,Shihai Wang</td>\n",
       "      <td>regularized boost for semi-supervised learning</td>\n",
       "      <td>semi-supervised inductive learning concerns ho...</td>\n",
       "      <td>regularized boost for semi-supervised learning...</td>\n",
       "    </tr>\n",
       "  </tbody>\n",
       "</table>\n",
       "</div>"
      ],
      "text/plain": [
       "   paper_id  year                                            authors  \\\n",
       "0      1861  2000                   Daniel D. Lee,H. Sebastian Seung   \n",
       "1      1975  2001  Odelia Schwartz,E.J. Chichilnisky,Eero P. Simo...   \n",
       "2      3163  2007                     Judy Goldsmith,Martin Mundhenk   \n",
       "3      3164  2007                    Anton Chechetka,Carlos Guestrin   \n",
       "4      3167  2007                                Ke Chen,Shihai Wang   \n",
       "\n",
       "                                     title_processed  \\\n",
       "0   algorithms for non-negative matrix factorization   \n",
       "1  characterizing neural gain control using spike...   \n",
       "2                        competition adds complexity   \n",
       "3  efficient principled learning of thin junction...   \n",
       "4     regularized boost for semi-supervised learning   \n",
       "\n",
       "                                  abstract_processed  \\\n",
       "0  non-negative matrix factorization (nmf) has pr...   \n",
       "1  spike-triggered averaging techniques are effec...   \n",
       "2  it is known that determinining whether a dec-p...   \n",
       "3  we present the first truly polynomial algorith...   \n",
       "4  semi-supervised inductive learning concerns ho...   \n",
       "\n",
       "                                paper_text_processed  \n",
       "0  algorithms for non-negative matrix factorizati...  \n",
       "1  characterizing neural gain control using spike...  \n",
       "2  competition adds complexity judy goldsmith dep...  \n",
       "3  efficient principled learning of thin junction...  \n",
       "4  regularized boost for semi-supervised learning...  "
      ]
     },
     "execution_count": 9,
     "metadata": {},
     "output_type": "execute_result"
    }
   ],
   "source": [
    "papers_df = papers_df.drop([\"title\", \"abstract\", \"paper_text\"], axis=1)\n",
    "papers_df.head()"
   ]
  },
  {
   "cell_type": "code",
   "execution_count": 10,
   "id": "ea936a1f",
   "metadata": {
    "ExecuteTime": {
     "end_time": "2023-08-01T20:02:27.114077Z",
     "start_time": "2023-08-01T20:02:27.108570Z"
    }
   },
   "outputs": [],
   "source": [
    "papers_df = papers_df.rename(columns={'title_processed':'title', 'abstract_processed': 'abstract', 'paper_text_processed': 'paper_text'})"
   ]
  },
  {
   "cell_type": "code",
   "execution_count": 11,
   "id": "fdac785d",
   "metadata": {
    "ExecuteTime": {
     "end_time": "2023-08-01T20:02:27.124060Z",
     "start_time": "2023-08-01T20:02:27.116002Z"
    }
   },
   "outputs": [
    {
     "data": {
      "text/html": [
       "<div>\n",
       "<style scoped>\n",
       "    .dataframe tbody tr th:only-of-type {\n",
       "        vertical-align: middle;\n",
       "    }\n",
       "\n",
       "    .dataframe tbody tr th {\n",
       "        vertical-align: top;\n",
       "    }\n",
       "\n",
       "    .dataframe thead th {\n",
       "        text-align: right;\n",
       "    }\n",
       "</style>\n",
       "<table border=\"1\" class=\"dataframe\">\n",
       "  <thead>\n",
       "    <tr style=\"text-align: right;\">\n",
       "      <th></th>\n",
       "      <th>paper_id</th>\n",
       "      <th>year</th>\n",
       "      <th>authors</th>\n",
       "      <th>title</th>\n",
       "      <th>abstract</th>\n",
       "      <th>paper_text</th>\n",
       "    </tr>\n",
       "  </thead>\n",
       "  <tbody>\n",
       "    <tr>\n",
       "      <th>0</th>\n",
       "      <td>1861</td>\n",
       "      <td>2000</td>\n",
       "      <td>Daniel D. Lee,H. Sebastian Seung</td>\n",
       "      <td>algorithms for non-negative matrix factorization</td>\n",
       "      <td>non-negative matrix factorization (nmf) has pr...</td>\n",
       "      <td>algorithms for non-negative matrix factorizati...</td>\n",
       "    </tr>\n",
       "    <tr>\n",
       "      <th>1</th>\n",
       "      <td>1975</td>\n",
       "      <td>2001</td>\n",
       "      <td>Odelia Schwartz,E.J. Chichilnisky,Eero P. Simo...</td>\n",
       "      <td>characterizing neural gain control using spike...</td>\n",
       "      <td>spike-triggered averaging techniques are effec...</td>\n",
       "      <td>characterizing neural gain control using spike...</td>\n",
       "    </tr>\n",
       "    <tr>\n",
       "      <th>2</th>\n",
       "      <td>3163</td>\n",
       "      <td>2007</td>\n",
       "      <td>Judy Goldsmith,Martin Mundhenk</td>\n",
       "      <td>competition adds complexity</td>\n",
       "      <td>it is known that determinining whether a dec-p...</td>\n",
       "      <td>competition adds complexity judy goldsmith dep...</td>\n",
       "    </tr>\n",
       "    <tr>\n",
       "      <th>3</th>\n",
       "      <td>3164</td>\n",
       "      <td>2007</td>\n",
       "      <td>Anton Chechetka,Carlos Guestrin</td>\n",
       "      <td>efficient principled learning of thin junction...</td>\n",
       "      <td>we present the first truly polynomial algorith...</td>\n",
       "      <td>efficient principled learning of thin junction...</td>\n",
       "    </tr>\n",
       "    <tr>\n",
       "      <th>4</th>\n",
       "      <td>3167</td>\n",
       "      <td>2007</td>\n",
       "      <td>Ke Chen,Shihai Wang</td>\n",
       "      <td>regularized boost for semi-supervised learning</td>\n",
       "      <td>semi-supervised inductive learning concerns ho...</td>\n",
       "      <td>regularized boost for semi-supervised learning...</td>\n",
       "    </tr>\n",
       "  </tbody>\n",
       "</table>\n",
       "</div>"
      ],
      "text/plain": [
       "   paper_id  year                                            authors  \\\n",
       "0      1861  2000                   Daniel D. Lee,H. Sebastian Seung   \n",
       "1      1975  2001  Odelia Schwartz,E.J. Chichilnisky,Eero P. Simo...   \n",
       "2      3163  2007                     Judy Goldsmith,Martin Mundhenk   \n",
       "3      3164  2007                    Anton Chechetka,Carlos Guestrin   \n",
       "4      3167  2007                                Ke Chen,Shihai Wang   \n",
       "\n",
       "                                               title  \\\n",
       "0   algorithms for non-negative matrix factorization   \n",
       "1  characterizing neural gain control using spike...   \n",
       "2                        competition adds complexity   \n",
       "3  efficient principled learning of thin junction...   \n",
       "4     regularized boost for semi-supervised learning   \n",
       "\n",
       "                                            abstract  \\\n",
       "0  non-negative matrix factorization (nmf) has pr...   \n",
       "1  spike-triggered averaging techniques are effec...   \n",
       "2  it is known that determinining whether a dec-p...   \n",
       "3  we present the first truly polynomial algorith...   \n",
       "4  semi-supervised inductive learning concerns ho...   \n",
       "\n",
       "                                          paper_text  \n",
       "0  algorithms for non-negative matrix factorizati...  \n",
       "1  characterizing neural gain control using spike...  \n",
       "2  competition adds complexity judy goldsmith dep...  \n",
       "3  efficient principled learning of thin junction...  \n",
       "4  regularized boost for semi-supervised learning...  "
      ]
     },
     "execution_count": 11,
     "metadata": {},
     "output_type": "execute_result"
    }
   ],
   "source": [
    "papers_df.head()"
   ]
  },
  {
   "cell_type": "code",
   "execution_count": 12,
   "id": "861cf4a7",
   "metadata": {
    "ExecuteTime": {
     "end_time": "2023-08-01T20:02:27.129244Z",
     "start_time": "2023-08-01T20:02:27.125912Z"
    }
   },
   "outputs": [],
   "source": [
    "papers_df = papers_df.drop([\"paper_text\"], axis=1)"
   ]
  },
  {
   "cell_type": "code",
   "execution_count": 13,
   "id": "9deb61f9",
   "metadata": {
    "ExecuteTime": {
     "end_time": "2023-08-01T20:02:27.134431Z",
     "start_time": "2023-08-01T20:02:27.131093Z"
    }
   },
   "outputs": [],
   "source": [
    "with open(\"../secret/openai\") as f:\n",
    "    openai_secret = f.read().strip()\n",
    "    \n",
    "# PDF_FILE = \"../data/GenericEmailMarketting/merged_file.pdf\"\n",
    "\n",
    "# use import getpass instead\n",
    "\n",
    "os.environ[\"OPENAI_API_KEY\"] = openai_secret "
   ]
  },
  {
   "cell_type": "code",
   "execution_count": 14,
   "id": "212a593a",
   "metadata": {
    "ExecuteTime": {
     "end_time": "2023-08-01T20:02:27.168586Z",
     "start_time": "2023-08-01T20:02:27.136298Z"
    }
   },
   "outputs": [],
   "source": [
    "llm = OpenAI(temperature=0)\n",
    "llm.openai_api_key = os.environ[\"OPENAI_API_KEY\"]"
   ]
  },
  {
   "cell_type": "code",
   "execution_count": 15,
   "id": "c21d7ef3",
   "metadata": {
    "ExecuteTime": {
     "end_time": "2023-08-01T20:02:29.884310Z",
     "start_time": "2023-08-01T20:02:27.170765Z"
    }
   },
   "outputs": [
    {
     "data": {
      "text/plain": [
       "'\\n\\nQ: What did the fish say when it hit the wall?\\nA: Dam!'"
      ]
     },
     "execution_count": 15,
     "metadata": {},
     "output_type": "execute_result"
    }
   ],
   "source": [
    "llm(\"tell me a joke\")"
   ]
  },
  {
   "cell_type": "code",
   "execution_count": 16,
   "id": "989397ae",
   "metadata": {
    "ExecuteTime": {
     "end_time": "2023-08-01T20:02:30.754294Z",
     "start_time": "2023-08-01T20:02:29.888048Z"
    }
   },
   "outputs": [
    {
     "data": {
      "text/plain": [
       "'?\\n\\nThe current Prime Minister of the United Kingdom is Boris Johnson.'"
      ]
     },
     "execution_count": 16,
     "metadata": {},
     "output_type": "execute_result"
    }
   ],
   "source": [
    "llm(\"Who is the current prime minister of Britain\")"
   ]
  },
  {
   "cell_type": "code",
   "execution_count": 17,
   "id": "d7921616",
   "metadata": {
    "ExecuteTime": {
     "end_time": "2023-08-01T20:02:30.764435Z",
     "start_time": "2023-08-01T20:02:30.757531Z"
    }
   },
   "outputs": [],
   "source": [
    "from langchain.embeddings import OpenAIEmbeddings\n",
    "\n",
    "embeddings_model = OpenAIEmbeddings()\n",
    "\n",
    "def get_openai_embedding(text):\n",
    "   text_rep = text.replace(\"\\n\", \" \")\n",
    "   return embeddings_model.embed_documents([text_rep])"
   ]
  },
  {
   "cell_type": "code",
   "execution_count": 18,
   "id": "0a49a512",
   "metadata": {
    "ExecuteTime": {
     "end_time": "2023-08-01T20:02:30.770430Z",
     "start_time": "2023-08-01T20:02:30.767139Z"
    }
   },
   "outputs": [],
   "source": [
    "sentence1 = \"i like summer\"\n",
    "sentence2 = \"Brocholi on pizza is probably not a good idea\"\n",
    "sentence3 = \"I love the warm weather outside\""
   ]
  },
  {
   "cell_type": "code",
   "execution_count": 19,
   "id": "f66b98be",
   "metadata": {
    "ExecuteTime": {
     "end_time": "2023-08-01T20:02:32.167869Z",
     "start_time": "2023-08-01T20:02:30.773064Z"
    }
   },
   "outputs": [],
   "source": [
    "embedding1 = embeddings_model.embed_query(sentence1)\n",
    "embedding2 = embeddings_model.embed_query(sentence2)\n",
    "embedding3 = embeddings_model.embed_query(sentence3)"
   ]
  },
  {
   "cell_type": "code",
   "execution_count": 20,
   "id": "094e1686",
   "metadata": {
    "ExecuteTime": {
     "end_time": "2023-08-01T20:02:32.181161Z",
     "start_time": "2023-08-01T20:02:32.170438Z"
    }
   },
   "outputs": [
    {
     "name": "stdout",
     "output_type": "stream",
     "text": [
      "0.7064328731718995\n",
      "0.7129745537152843\n",
      "0.8758719352747321\n"
     ]
    }
   ],
   "source": [
    "print(np.dot(embedding1, embedding2))\n",
    "print(np.dot(embedding2, embedding3))\n",
    "print(np.dot(embedding1, embedding3))\n"
   ]
  },
  {
   "cell_type": "markdown",
   "id": "606365d1",
   "metadata": {},
   "source": [
    "### Loading the data"
   ]
  },
  {
   "cell_type": "code",
   "execution_count": 21,
   "id": "9dc5321d",
   "metadata": {
    "ExecuteTime": {
     "end_time": "2023-08-01T20:02:32.189112Z",
     "start_time": "2023-08-01T20:02:32.185146Z"
    }
   },
   "outputs": [],
   "source": [
    "from langchain.document_loaders import DataFrameLoader"
   ]
  },
  {
   "cell_type": "code",
   "execution_count": 22,
   "id": "efbdd543",
   "metadata": {
    "ExecuteTime": {
     "end_time": "2023-08-01T20:02:32.197517Z",
     "start_time": "2023-08-01T20:02:32.192174Z"
    }
   },
   "outputs": [],
   "source": [
    "loader = DataFrameLoader(papers_df, page_content_column=\"abstract\")"
   ]
  },
  {
   "cell_type": "code",
   "execution_count": 23,
   "id": "d09697be",
   "metadata": {
    "ExecuteTime": {
     "end_time": "2023-08-01T20:02:32.622311Z",
     "start_time": "2023-08-01T20:02:32.202654Z"
    }
   },
   "outputs": [],
   "source": [
    "# Use lazy load for larger table, which won't read the full table into memory \n",
    "page = loader.load()[0]"
   ]
  },
  {
   "cell_type": "code",
   "execution_count": 24,
   "id": "b063e7e3",
   "metadata": {
    "ExecuteTime": {
     "end_time": "2023-08-01T20:02:32.629094Z",
     "start_time": "2023-08-01T20:02:32.624512Z"
    }
   },
   "outputs": [
    {
     "data": {
      "text/plain": [
       "'non-negative matrix factorization (nmf) has previously been shown to  be a useful decomposition for multivariate data. two different multi plicative algorithms for nmf are analyzed. they differ only slightly in  the multiplicative factor used in the update rules. one algorithm can be  shown to minimize the conventional least squares error while the other  minimizes the generalized kullback-leibler divergence. the monotonic  convergence of both algorithms can be proven using an auxiliary func tion analogous to that used for proving convergence of the expectation maximization algorithm. the algorithms can also be interpreted as diag onally rescaled gradient descent, where the rescaling factor is optimally  chosen to ensure convergence. '"
      ]
     },
     "execution_count": 24,
     "metadata": {},
     "output_type": "execute_result"
    }
   ],
   "source": [
    "page.page_content"
   ]
  },
  {
   "cell_type": "code",
   "execution_count": 25,
   "id": "92c593b3",
   "metadata": {
    "ExecuteTime": {
     "end_time": "2023-08-01T20:02:32.637029Z",
     "start_time": "2023-08-01T20:02:32.632306Z"
    }
   },
   "outputs": [
    {
     "data": {
      "text/plain": [
       "{'paper_id': 1861,\n",
       " 'year': 2000,\n",
       " 'authors': 'Daniel D. Lee,H. Sebastian Seung',\n",
       " 'title': 'algorithms for non-negative matrix factorization'}"
      ]
     },
     "execution_count": 25,
     "metadata": {},
     "output_type": "execute_result"
    }
   ],
   "source": [
    "page.metadata"
   ]
  },
  {
   "cell_type": "code",
   "execution_count": 26,
   "id": "620c0386",
   "metadata": {
    "ExecuteTime": {
     "end_time": "2023-08-01T20:02:32.643994Z",
     "start_time": "2023-08-01T20:02:32.639762Z"
    }
   },
   "outputs": [
    {
     "data": {
      "text/plain": [
       "langchain.schema.Document"
      ]
     },
     "execution_count": 26,
     "metadata": {},
     "output_type": "execute_result"
    }
   ],
   "source": [
    "type(page)"
   ]
  },
  {
   "cell_type": "markdown",
   "id": "c993d2d2",
   "metadata": {},
   "source": [
    "### Splitting the data"
   ]
  },
  {
   "cell_type": "markdown",
   "id": "7d4c56d3",
   "metadata": {},
   "source": [
    "### Why do we need to split the data\n",
    "1) Chatgpt and LLM have limits\n",
    "\n",
    "\n",
    "\n",
    "2) To allow for efficient search for vector spaces\n",
    "\n"
   ]
  },
  {
   "cell_type": "code",
   "execution_count": 27,
   "id": "0aa73477",
   "metadata": {
    "ExecuteTime": {
     "end_time": "2023-08-01T20:02:32.650351Z",
     "start_time": "2023-08-01T20:02:32.646740Z"
    }
   },
   "outputs": [],
   "source": [
    "from langchain.text_splitter import RecursiveCharacterTextSplitter, CharacterTextSplitter"
   ]
  },
  {
   "cell_type": "code",
   "execution_count": 28,
   "id": "f6dfe267",
   "metadata": {
    "ExecuteTime": {
     "end_time": "2023-08-01T20:02:32.664301Z",
     "start_time": "2023-08-01T20:02:32.661150Z"
    }
   },
   "outputs": [],
   "source": [
    "r_spltter = RecursiveCharacterTextSplitter( # Set a really small chunk size, just to show.\n",
    "    chunk_size = 26,\n",
    "    chunk_overlap  = 4,\n",
    "    length_function = len,\n",
    "    #seperators=['\\n\\n\", \"\\n\", \" \", \"\"]\n",
    ")\n",
    "\n",
    "c_splitter = CharacterTextSplitter(\n",
    "    chunk_size = 26,\n",
    "    chunk_overlap  = 4,\n",
    "    length_function = len,\n",
    "\n",
    ")"
   ]
  },
  {
   "cell_type": "code",
   "execution_count": 29,
   "id": "90acef87",
   "metadata": {
    "ExecuteTime": {
     "end_time": "2023-08-01T20:02:32.669288Z",
     "start_time": "2023-08-01T20:02:32.666691Z"
    }
   },
   "outputs": [],
   "source": [
    "text_a2z = 'abcdefghijklmnopqrstuvwxyz'\n",
    "text_a2z_plus = 'abcdefghijklmnopqrstuvwxyz 12345678'"
   ]
  },
  {
   "cell_type": "code",
   "execution_count": 30,
   "id": "74f2a024",
   "metadata": {
    "ExecuteTime": {
     "end_time": "2023-08-01T20:02:32.675721Z",
     "start_time": "2023-08-01T20:02:32.671860Z"
    }
   },
   "outputs": [
    {
     "data": {
      "text/plain": [
       "['abcdefghijklmnopqrstuvwxyz']"
      ]
     },
     "execution_count": 30,
     "metadata": {},
     "output_type": "execute_result"
    }
   ],
   "source": [
    "r_spltter.split_text(text_a2z)"
   ]
  },
  {
   "cell_type": "code",
   "execution_count": 31,
   "id": "25a2e5da",
   "metadata": {
    "ExecuteTime": {
     "end_time": "2023-08-01T20:02:32.683422Z",
     "start_time": "2023-08-01T20:02:32.677279Z"
    }
   },
   "outputs": [
    {
     "data": {
      "text/plain": [
       "['abcdefghijklmnopqrstuvwxyz', '12345678']"
      ]
     },
     "execution_count": 31,
     "metadata": {},
     "output_type": "execute_result"
    }
   ],
   "source": [
    "r_spltter.split_text(text_a2z_plus)"
   ]
  },
  {
   "cell_type": "code",
   "execution_count": 32,
   "id": "491d7b98",
   "metadata": {
    "ExecuteTime": {
     "end_time": "2023-08-01T20:02:32.690542Z",
     "start_time": "2023-08-01T20:02:32.686370Z"
    }
   },
   "outputs": [
    {
     "data": {
      "text/plain": [
       "['abcdefghijklmnopqrstuvwxyz']"
      ]
     },
     "execution_count": 32,
     "metadata": {},
     "output_type": "execute_result"
    }
   ],
   "source": [
    "c_splitter.split_text(text_a2z)"
   ]
  },
  {
   "cell_type": "code",
   "execution_count": 33,
   "id": "1e07b0f1",
   "metadata": {
    "ExecuteTime": {
     "end_time": "2023-08-01T20:02:32.697967Z",
     "start_time": "2023-08-01T20:02:32.692589Z"
    }
   },
   "outputs": [
    {
     "data": {
      "text/plain": [
       "['abcdefghijklmnopqrstuvwxyz 12345678']"
      ]
     },
     "execution_count": 33,
     "metadata": {},
     "output_type": "execute_result"
    }
   ],
   "source": [
    "c_splitter.split_text(text_a2z_plus)"
   ]
  },
  {
   "cell_type": "markdown",
   "id": "9af1f09e",
   "metadata": {},
   "source": [
    "The issue is Character text splitter splits only on new lines"
   ]
  },
  {
   "cell_type": "code",
   "execution_count": 34,
   "id": "89eebdef",
   "metadata": {
    "ExecuteTime": {
     "end_time": "2023-08-01T20:02:32.703748Z",
     "start_time": "2023-08-01T20:02:32.700656Z"
    }
   },
   "outputs": [],
   "source": [
    "c_splitter = CharacterTextSplitter(\n",
    "    chunk_size = 26,\n",
    "    chunk_overlap  = 4,\n",
    "    length_function = len,\n",
    "    separator=\" \"\n",
    ")"
   ]
  },
  {
   "cell_type": "code",
   "execution_count": 35,
   "id": "012f4002",
   "metadata": {
    "ExecuteTime": {
     "end_time": "2023-08-01T20:02:32.710135Z",
     "start_time": "2023-08-01T20:02:32.706132Z"
    }
   },
   "outputs": [
    {
     "data": {
      "text/plain": [
       "['abcdefghijklmnopqrstuvwxyz', '12345678']"
      ]
     },
     "execution_count": 35,
     "metadata": {},
     "output_type": "execute_result"
    }
   ],
   "source": [
    "c_splitter.split_text(text_a2z_plus)"
   ]
  },
  {
   "cell_type": "code",
   "execution_count": 36,
   "id": "d14ea5dc",
   "metadata": {
    "ExecuteTime": {
     "end_time": "2023-08-01T20:02:32.716864Z",
     "start_time": "2023-08-01T20:02:32.712049Z"
    }
   },
   "outputs": [
    {
     "data": {
      "text/plain": [
       "'non-negative matrix factorization (nmf) has previously been shown to  be a useful decomposition for multivariate data. two different multi plicative algorithms for nmf are analyzed. they differ only slightly in  the multiplicative factor used in the update rules. one algorithm can be  shown to minimize the conventional least squares error while the other  minimizes the generalized kullback-leibler divergence. the monotonic  convergence of both algorithms can be proven using an auxiliary func tion analogous to that used for proving convergence of the expectation maximization algorithm. the algorithms can also be interpreted as diag onally rescaled gradient descent, where the rescaling factor is optimally  chosen to ensure convergence. '"
      ]
     },
     "execution_count": 36,
     "metadata": {},
     "output_type": "execute_result"
    }
   ],
   "source": [
    "abstract = page.page_content\n",
    "\n",
    "abstract"
   ]
  },
  {
   "cell_type": "code",
   "execution_count": 37,
   "id": "e7ba264c",
   "metadata": {
    "ExecuteTime": {
     "end_time": "2023-08-01T20:02:32.723960Z",
     "start_time": "2023-08-01T20:02:32.719244Z"
    }
   },
   "outputs": [
    {
     "data": {
      "text/plain": [
       "['non-negative matrix',\n",
       " 'factorization (nmf) has',\n",
       " 'has previously been shown',\n",
       " 'to  be a useful',\n",
       " 'decomposition for',\n",
       " 'for multivariate data.',\n",
       " 'two different multi',\n",
       " 'plicative algorithms for',\n",
       " 'for nmf are analyzed.',\n",
       " 'they differ only slightly',\n",
       " 'in  the multiplicative',\n",
       " 'factor used in the update',\n",
       " 'rules. one algorithm can',\n",
       " 'can be  shown to minimize',\n",
       " 'the conventional least',\n",
       " 'squares error while the',\n",
       " 'the other  minimizes the',\n",
       " 'the generalized',\n",
       " 'kullback-leibler',\n",
       " 'divergence. the monotonic',\n",
       " 'convergence of both',\n",
       " 'algorithms can be proven',\n",
       " 'using an auxiliary func',\n",
       " 'tion analogous to that',\n",
       " 'used for proving',\n",
       " 'convergence of the',\n",
       " 'the expectation',\n",
       " 'maximization algorithm.',\n",
       " 'the algorithms can also',\n",
       " 'be interpreted as diag',\n",
       " 'onally rescaled gradient',\n",
       " 'descent, where the',\n",
       " 'the rescaling factor is',\n",
       " 'is optimally  chosen to',\n",
       " 'to ensure convergence.']"
      ]
     },
     "execution_count": 37,
     "metadata": {},
     "output_type": "execute_result"
    }
   ],
   "source": [
    "r_spltter.split_text(abstract)"
   ]
  },
  {
   "cell_type": "code",
   "execution_count": 38,
   "id": "844da99d",
   "metadata": {
    "ExecuteTime": {
     "end_time": "2023-08-01T20:02:32.732510Z",
     "start_time": "2023-08-01T20:02:32.726204Z"
    }
   },
   "outputs": [
    {
     "data": {
      "text/plain": [
       "['non-negative matrix',\n",
       " 'factorization (nmf) has',\n",
       " 'has previously been shown',\n",
       " 'to be a useful',\n",
       " 'decomposition for',\n",
       " 'for multivariate data. two',\n",
       " 'two different multi',\n",
       " 'plicative algorithms for',\n",
       " 'for nmf are analyzed. they',\n",
       " 'they differ only slightly',\n",
       " 'in the multiplicative',\n",
       " 'factor used in the update',\n",
       " 'rules. one algorithm can',\n",
       " 'can be shown to minimize',\n",
       " 'the conventional least',\n",
       " 'squares error while the',\n",
       " 'the other minimizes the',\n",
       " 'the generalized',\n",
       " 'kullback-leibler',\n",
       " 'divergence. the monotonic',\n",
       " 'convergence of both',\n",
       " 'both algorithms can be',\n",
       " 'be proven using an',\n",
       " 'an auxiliary func tion',\n",
       " 'tion analogous to that',\n",
       " 'that used for proving',\n",
       " 'convergence of the',\n",
       " 'the expectation',\n",
       " 'maximization algorithm.',\n",
       " 'the algorithms can also be',\n",
       " 'be interpreted as diag',\n",
       " 'diag onally rescaled',\n",
       " 'gradient descent, where',\n",
       " 'the rescaling factor is',\n",
       " 'is optimally chosen to',\n",
       " 'to ensure convergence.']"
      ]
     },
     "execution_count": 38,
     "metadata": {},
     "output_type": "execute_result"
    }
   ],
   "source": [
    "c_splitter.split_text(abstract)"
   ]
  },
  {
   "cell_type": "code",
   "execution_count": 39,
   "id": "e6374d4b",
   "metadata": {
    "ExecuteTime": {
     "end_time": "2023-08-01T20:02:32.738421Z",
     "start_time": "2023-08-01T20:02:32.735089Z"
    }
   },
   "outputs": [],
   "source": [
    "r_spltter = RecursiveCharacterTextSplitter( # Set a really small chunk size, just to show.\n",
    "   \n",
    "    length_function = len,\n",
    "    separators=['\\n\\n', \"\\n\", \" \", \"\"],\n",
    "     chunk_size = 150,\n",
    "    chunk_overlap  = 0,\n",
    ")\n"
   ]
  },
  {
   "cell_type": "code",
   "execution_count": 40,
   "id": "5770388e",
   "metadata": {
    "ExecuteTime": {
     "end_time": "2023-08-01T20:02:32.746178Z",
     "start_time": "2023-08-01T20:02:32.740833Z"
    }
   },
   "outputs": [
    {
     "data": {
      "text/plain": [
       "['non-negative matrix factorization (nmf) has previously been shown to  be a useful decomposition for multivariate data. two different multi plicative',\n",
       " 'algorithms for nmf are analyzed. they differ only slightly in  the multiplicative factor used in the update rules. one algorithm can be  shown to',\n",
       " 'minimize the conventional least squares error while the other  minimizes the generalized kullback-leibler divergence. the monotonic  convergence of',\n",
       " 'both algorithms can be proven using an auxiliary func tion analogous to that used for proving convergence of the expectation maximization algorithm.',\n",
       " 'the algorithms can also be interpreted as diag onally rescaled gradient descent, where the rescaling factor is optimally  chosen to ensure',\n",
       " 'convergence.']"
      ]
     },
     "execution_count": 40,
     "metadata": {},
     "output_type": "execute_result"
    }
   ],
   "source": [
    "r_spltter.split_text(abstract)"
   ]
  },
  {
   "cell_type": "code",
   "execution_count": 41,
   "id": "7177ee16",
   "metadata": {
    "ExecuteTime": {
     "end_time": "2023-08-01T20:02:32.751386Z",
     "start_time": "2023-08-01T20:02:32.748667Z"
    }
   },
   "outputs": [],
   "source": [
    "r_spltter = RecursiveCharacterTextSplitter( # Set a really small chunk size, just to show.\n",
    "    length_function = len,\n",
    "    separators=['\\n\\n', \"\\n\", \" \",\"\\.\", \"\"],\n",
    "     chunk_size = 1000,\n",
    "    chunk_overlap  = 0,\n",
    ")\n"
   ]
  },
  {
   "cell_type": "code",
   "execution_count": 42,
   "id": "9b438550",
   "metadata": {
    "ExecuteTime": {
     "end_time": "2023-08-01T20:02:32.758750Z",
     "start_time": "2023-08-01T20:02:32.754403Z"
    }
   },
   "outputs": [
    {
     "data": {
      "text/plain": [
       "['non-negative matrix factorization (nmf) has previously been shown to  be a useful decomposition for multivariate data. two different multi plicative algorithms for nmf are analyzed. they differ only slightly in  the multiplicative factor used in the update rules. one algorithm can be  shown to minimize the conventional least squares error while the other  minimizes the generalized kullback-leibler divergence. the monotonic  convergence of both algorithms can be proven using an auxiliary func tion analogous to that used for proving convergence of the expectation maximization algorithm. the algorithms can also be interpreted as diag onally rescaled gradient descent, where the rescaling factor is optimally  chosen to ensure convergence.']"
      ]
     },
     "execution_count": 42,
     "metadata": {},
     "output_type": "execute_result"
    }
   ],
   "source": [
    "r_spltter.split_text(abstract)"
   ]
  },
  {
   "cell_type": "code",
   "execution_count": 43,
   "id": "a0b58bd2",
   "metadata": {
    "ExecuteTime": {
     "end_time": "2023-08-01T20:02:32.764019Z",
     "start_time": "2023-08-01T20:02:32.760474Z"
    }
   },
   "outputs": [],
   "source": [
    "# what if we want to split by sentences\n",
    "# regex with look behind\n",
    "sentence_spltter = RecursiveCharacterTextSplitter( # Set a really small chunk size, just to show.\n",
    "    length_function = len,\n",
    "    separators=[\"(?<=\\.)\"],\n",
    "     chunk_size = 150,\n",
    "    chunk_overlap  = 0,\n",
    ")\n"
   ]
  },
  {
   "cell_type": "code",
   "execution_count": 44,
   "id": "b77495da",
   "metadata": {
    "ExecuteTime": {
     "end_time": "2023-08-01T20:02:32.772280Z",
     "start_time": "2023-08-01T20:02:32.766923Z"
    },
    "scrolled": true
   },
   "outputs": [
    {
     "data": {
      "text/plain": [
       "['non-negative matrix factorization (nmf) has previously been shown to  be a useful decomposition for multivariate data.',\n",
       " 'two different multi plicative algorithms for nmf are analyzed. they differ only slightly in  the multiplicative factor used in the update rules.',\n",
       " 'one algorithm can be  shown to minimize the conventional least squares error while the other  minimizes the generalized kullback-leibler divergence.',\n",
       " ' the monotonic  convergence of both algorithms can be proven using an auxiliary func tion analogous to that used for proving convergence of the expectation maximization algorithm.',\n",
       " ' the algorithms can also be interpreted as diag onally rescaled gradient descent, where the rescaling factor is optimally  chosen to ensure convergence.']"
      ]
     },
     "execution_count": 44,
     "metadata": {},
     "output_type": "execute_result"
    }
   ],
   "source": [
    "sentence_spltter.split_text(abstract)"
   ]
  },
  {
   "cell_type": "code",
   "execution_count": 45,
   "id": "34f6472a",
   "metadata": {
    "ExecuteTime": {
     "end_time": "2023-08-01T20:02:32.777028Z",
     "start_time": "2023-08-01T20:02:32.774342Z"
    }
   },
   "outputs": [],
   "source": [
    "from langchain.text_splitter import TokenTextSplitter"
   ]
  },
  {
   "cell_type": "code",
   "execution_count": 46,
   "id": "6b8a069a",
   "metadata": {
    "ExecuteTime": {
     "end_time": "2023-08-01T20:02:33.310876Z",
     "start_time": "2023-08-01T20:02:32.779227Z"
    }
   },
   "outputs": [],
   "source": [
    "token_text_splitter = TokenTextSplitter(chunk_size=1, chunk_overlap=0)"
   ]
  },
  {
   "cell_type": "code",
   "execution_count": 47,
   "id": "9f7c5c83",
   "metadata": {
    "ExecuteTime": {
     "end_time": "2023-08-01T20:02:33.319780Z",
     "start_time": "2023-08-01T20:02:33.313071Z"
    }
   },
   "outputs": [
    {
     "data": {
      "text/plain": [
       "['abc',\n",
       " 'def',\n",
       " 'gh',\n",
       " 'ij',\n",
       " 'kl',\n",
       " 'mn',\n",
       " 'op',\n",
       " 'q',\n",
       " 'r',\n",
       " 'st',\n",
       " 'uv',\n",
       " 'w',\n",
       " 'xy',\n",
       " 'z']"
      ]
     },
     "execution_count": 47,
     "metadata": {},
     "output_type": "execute_result"
    }
   ],
   "source": [
    "token_text_splitter.split_text(text_a2z)"
   ]
  },
  {
   "cell_type": "code",
   "execution_count": 48,
   "id": "ef5a7247",
   "metadata": {
    "ExecuteTime": {
     "end_time": "2023-08-01T20:02:33.329947Z",
     "start_time": "2023-08-01T20:02:33.322025Z"
    }
   },
   "outputs": [
    {
     "data": {
      "text/plain": [
       "['non',\n",
       " '-',\n",
       " 'negative',\n",
       " ' matrix',\n",
       " ' factor',\n",
       " 'ization',\n",
       " ' (',\n",
       " 'nm',\n",
       " 'f',\n",
       " ')',\n",
       " ' has',\n",
       " ' previously',\n",
       " ' been',\n",
       " ' shown',\n",
       " ' to',\n",
       " ' ',\n",
       " ' be',\n",
       " ' a',\n",
       " ' useful',\n",
       " ' decom',\n",
       " 'position',\n",
       " ' for',\n",
       " ' mult',\n",
       " 'ivariate',\n",
       " ' data',\n",
       " '.',\n",
       " ' two',\n",
       " ' different',\n",
       " ' multi',\n",
       " ' pl',\n",
       " 'icative',\n",
       " ' algorithms',\n",
       " ' for',\n",
       " ' nm',\n",
       " 'f',\n",
       " ' are',\n",
       " ' analyzed',\n",
       " '.',\n",
       " ' they',\n",
       " ' differ',\n",
       " ' only',\n",
       " ' slightly',\n",
       " ' in',\n",
       " ' ',\n",
       " ' the',\n",
       " ' multipl',\n",
       " 'icative',\n",
       " ' factor',\n",
       " ' used',\n",
       " ' in',\n",
       " ' the',\n",
       " ' update',\n",
       " ' rules',\n",
       " '.',\n",
       " ' one',\n",
       " ' algorithm',\n",
       " ' can',\n",
       " ' be',\n",
       " ' ',\n",
       " ' shown',\n",
       " ' to',\n",
       " ' minimize',\n",
       " ' the',\n",
       " ' conventional',\n",
       " ' least',\n",
       " ' squares',\n",
       " ' error',\n",
       " ' while',\n",
       " ' the',\n",
       " ' other',\n",
       " ' ',\n",
       " ' minim',\n",
       " 'izes',\n",
       " ' the',\n",
       " ' generalized',\n",
       " ' k',\n",
       " 'ull',\n",
       " 'back',\n",
       " '-',\n",
       " 'le',\n",
       " 'ib',\n",
       " 'ler',\n",
       " ' divergence',\n",
       " '.',\n",
       " ' the',\n",
       " ' mon',\n",
       " 'ot',\n",
       " 'onic',\n",
       " ' ',\n",
       " ' convergence',\n",
       " ' of',\n",
       " ' both',\n",
       " ' algorithms',\n",
       " ' can',\n",
       " ' be',\n",
       " ' proven',\n",
       " ' using',\n",
       " ' an',\n",
       " ' auxiliary',\n",
       " ' func',\n",
       " ' tion',\n",
       " ' analogous',\n",
       " ' to',\n",
       " ' that',\n",
       " ' used',\n",
       " ' for',\n",
       " ' proving',\n",
       " ' convergence',\n",
       " ' of',\n",
       " ' the',\n",
       " ' expectation',\n",
       " ' maxim',\n",
       " 'ization',\n",
       " ' algorithm',\n",
       " '.',\n",
       " ' the',\n",
       " ' algorithms',\n",
       " ' can',\n",
       " ' also',\n",
       " ' be',\n",
       " ' interpreted',\n",
       " ' as',\n",
       " ' di',\n",
       " 'ag',\n",
       " ' on',\n",
       " 'ally',\n",
       " ' resc',\n",
       " 'aled',\n",
       " ' gradient',\n",
       " ' descent',\n",
       " ',',\n",
       " ' where',\n",
       " ' the',\n",
       " ' resc',\n",
       " 'aling',\n",
       " ' factor',\n",
       " ' is',\n",
       " ' optim',\n",
       " 'ally',\n",
       " ' ',\n",
       " ' chosen',\n",
       " ' to',\n",
       " ' ensure',\n",
       " ' convergence',\n",
       " '.',\n",
       " ' ']"
      ]
     },
     "execution_count": 48,
     "metadata": {},
     "output_type": "execute_result"
    }
   ],
   "source": [
    "token_text_splitter.split_text(abstract)"
   ]
  },
  {
   "cell_type": "code",
   "execution_count": 49,
   "id": "abbbe69a",
   "metadata": {
    "ExecuteTime": {
     "end_time": "2023-08-01T20:02:33.692707Z",
     "start_time": "2023-08-01T20:02:33.332103Z"
    }
   },
   "outputs": [],
   "source": [
    "docs = loader.load()"
   ]
  },
  {
   "cell_type": "code",
   "execution_count": 50,
   "id": "0b279b09",
   "metadata": {
    "ExecuteTime": {
     "end_time": "2023-08-01T20:02:33.701854Z",
     "start_time": "2023-08-01T20:02:33.696244Z"
    }
   },
   "outputs": [
    {
     "data": {
      "text/plain": [
       "3921"
      ]
     },
     "execution_count": 50,
     "metadata": {},
     "output_type": "execute_result"
    }
   ],
   "source": [
    "len(docs)"
   ]
  },
  {
   "cell_type": "code",
   "execution_count": 51,
   "id": "fb678030",
   "metadata": {
    "ExecuteTime": {
     "end_time": "2023-08-01T20:02:33.708850Z",
     "start_time": "2023-08-01T20:02:33.704494Z"
    }
   },
   "outputs": [
    {
     "data": {
      "text/plain": [
       "Document(page_content='non-negative matrix factorization (nmf) has previously been shown to  be a useful decomposition for multivariate data. two different multi plicative algorithms for nmf are analyzed. they differ only slightly in  the multiplicative factor used in the update rules. one algorithm can be  shown to minimize the conventional least squares error while the other  minimizes the generalized kullback-leibler divergence. the monotonic  convergence of both algorithms can be proven using an auxiliary func tion analogous to that used for proving convergence of the expectation maximization algorithm. the algorithms can also be interpreted as diag onally rescaled gradient descent, where the rescaling factor is optimally  chosen to ensure convergence. ', metadata={'paper_id': 1861, 'year': 2000, 'authors': 'Daniel D. Lee,H. Sebastian Seung', 'title': 'algorithms for non-negative matrix factorization'})"
      ]
     },
     "execution_count": 51,
     "metadata": {},
     "output_type": "execute_result"
    }
   ],
   "source": [
    "docs[0]"
   ]
  },
  {
   "cell_type": "code",
   "execution_count": 53,
   "id": "f53ea8c1",
   "metadata": {
    "ExecuteTime": {
     "end_time": "2023-08-01T20:02:34.218288Z",
     "start_time": "2023-08-01T20:02:33.717822Z"
    }
   },
   "outputs": [],
   "source": [
    "splits = sentence_spltter.split_documents(docs)"
   ]
  },
  {
   "cell_type": "code",
   "execution_count": 54,
   "id": "b6ee0239",
   "metadata": {
    "ExecuteTime": {
     "end_time": "2023-08-01T20:02:34.225522Z",
     "start_time": "2023-08-01T20:02:34.220917Z"
    }
   },
   "outputs": [
    {
     "data": {
      "text/plain": [
       "Document(page_content='non-negative matrix factorization (nmf) has previously been shown to  be a useful decomposition for multivariate data.', metadata={'paper_id': 1861, 'year': 2000, 'authors': 'Daniel D. Lee,H. Sebastian Seung', 'title': 'algorithms for non-negative matrix factorization'})"
      ]
     },
     "execution_count": 54,
     "metadata": {},
     "output_type": "execute_result"
    }
   ],
   "source": [
    "splits[0]"
   ]
  },
  {
   "cell_type": "code",
   "execution_count": 55,
   "id": "b1d15f2a",
   "metadata": {
    "ExecuteTime": {
     "end_time": "2023-08-01T20:02:35.142694Z",
     "start_time": "2023-08-01T20:02:34.228134Z"
    }
   },
   "outputs": [],
   "source": [
    "random_splits = loader.load_and_split()"
   ]
  },
  {
   "cell_type": "code",
   "execution_count": 52,
   "id": "6b7e1dc8",
   "metadata": {
    "ExecuteTime": {
     "end_time": "2023-08-01T20:02:33.715817Z",
     "start_time": "2023-08-01T20:02:33.712807Z"
    }
   },
   "outputs": [],
   "source": [
    "# For simplicity we will not use any splitting\n"
   ]
  },
  {
   "cell_type": "code",
   "execution_count": null,
   "id": "345bde27",
   "metadata": {},
   "outputs": [],
   "source": []
  },
  {
   "cell_type": "markdown",
   "id": "b511cfa7",
   "metadata": {},
   "source": [
    "## Indexing data in Vectorstores\n",
    "\n",
    "### ChromaDb"
   ]
  },
  {
   "cell_type": "code",
   "execution_count": 56,
   "id": "e9565318",
   "metadata": {
    "ExecuteTime": {
     "end_time": "2023-08-01T20:02:35.148181Z",
     "start_time": "2023-08-01T20:02:35.145146Z"
    }
   },
   "outputs": [],
   "source": [
    "persist_directory_random_split_gpt = './data/chroma/random_split/gpt'"
   ]
  },
  {
   "cell_type": "code",
   "execution_count": 57,
   "id": "65b81159",
   "metadata": {
    "ExecuteTime": {
     "end_time": "2023-08-01T20:02:35.173984Z",
     "start_time": "2023-08-01T20:02:35.151057Z"
    }
   },
   "outputs": [
    {
     "data": {
      "text/plain": [
       "0"
      ]
     },
     "execution_count": 57,
     "metadata": {},
     "output_type": "execute_result"
    }
   ],
   "source": [
    "os.system(f\"rm -rf {persist_directory_random_split_gpt}\")  # remove old database files if any # remove old database files if any"
   ]
  },
  {
   "cell_type": "code",
   "execution_count": 58,
   "id": "069b47e1",
   "metadata": {
    "ExecuteTime": {
     "end_time": "2023-08-01T20:03:18.535186Z",
     "start_time": "2023-08-01T20:02:35.175598Z"
    }
   },
   "outputs": [
    {
     "name": "stdout",
     "output_type": "stream",
     "text": [
      "CPU times: user 10.7 s, sys: 1.18 s, total: 11.9 s\n",
      "Wall time: 43.3 s\n"
     ]
    }
   ],
   "source": [
    "%%time\n",
    "vectordb_gpt = Chroma.from_documents(\n",
    "    documents=docs,\n",
    "    embedding=OpenAIEmbeddings(),\n",
    "    persist_directory=persist_directory_random_split_gpt\n",
    ")"
   ]
  },
  {
   "cell_type": "code",
   "execution_count": 59,
   "id": "54ac24f9",
   "metadata": {
    "ExecuteTime": {
     "end_time": "2023-08-01T20:03:18.550370Z",
     "start_time": "2023-08-01T20:03:18.541383Z"
    }
   },
   "outputs": [
    {
     "name": "stdout",
     "output_type": "stream",
     "text": [
      "3921\n"
     ]
    }
   ],
   "source": [
    "print(vectordb_gpt._collection.count())"
   ]
  },
  {
   "cell_type": "code",
   "execution_count": 60,
   "id": "abd9068c",
   "metadata": {
    "ExecuteTime": {
     "end_time": "2023-08-01T20:03:24.281925Z",
     "start_time": "2023-08-01T20:03:18.552771Z"
    }
   },
   "outputs": [
    {
     "data": {
      "application/vnd.jupyter.widget-view+json": {
       "model_id": "07294c936d9945b494609777960041a2",
       "version_major": 2,
       "version_minor": 0
      },
      "text/plain": [
       "FloatProgress(value=0.0, layout=Layout(width='auto'), style=ProgressStyle(bar_color='black'))"
      ]
     },
     "metadata": {},
     "output_type": "display_data"
    }
   ],
   "source": [
    "vectordb_gpt.persist()"
   ]
  },
  {
   "cell_type": "markdown",
   "id": "76f3fea2",
   "metadata": {},
   "source": [
    "### Elasticsearch"
   ]
  },
  {
   "cell_type": "code",
   "execution_count": 61,
   "id": "21580e20",
   "metadata": {
    "ExecuteTime": {
     "end_time": "2023-08-01T20:03:27.034043Z",
     "start_time": "2023-08-01T20:03:25.168319Z"
    }
   },
   "outputs": [
    {
     "name": "stdout",
     "output_type": "stream",
     "text": [
      "{\r\n",
      "  \"name\" : \"a1b07c8dd9e0\",\r\n",
      "  \"cluster_name\" : \"docker-cluster\",\r\n",
      "  \"cluster_uuid\" : \"TCUdzVJbQ4CZ1WorXbYDog\",\r\n",
      "  \"version\" : {\r\n",
      "    \"number\" : \"8.8.2\",\r\n",
      "    \"build_flavor\" : \"default\",\r\n",
      "    \"build_type\" : \"docker\",\r\n",
      "    \"build_hash\" : \"98e1271edf932a480e4262a471281f1ee295ce6b\",\r\n",
      "    \"build_date\" : \"2023-06-26T05:16:16.196344851Z\",\r\n",
      "    \"build_snapshot\" : false,\r\n",
      "    \"lucene_version\" : \"9.6.0\",\r\n",
      "    \"minimum_wire_compatibility_version\" : \"7.17.0\",\r\n",
      "    \"minimum_index_compatibility_version\" : \"7.0.0\"\r\n",
      "  },\r\n",
      "  \"tagline\" : \"You Know, for Search\"\r\n",
      "}\r\n"
     ]
    }
   ],
   "source": [
    "!curl -X GET \"http://localhost:9200\""
   ]
  },
  {
   "cell_type": "code",
   "execution_count": 62,
   "id": "d22025b9",
   "metadata": {
    "ExecuteTime": {
     "end_time": "2023-08-01T20:03:27.268371Z",
     "start_time": "2023-08-01T20:03:27.041517Z"
    }
   },
   "outputs": [],
   "source": [
    "from langchain import ElasticVectorSearch\n",
    "from langchain.vectorstores.elastic_vector_search import ElasticKnnSearch\n",
    "\n",
    "from langchain.embeddings import OpenAIEmbeddings\n",
    "\n",
    "embedding = OpenAIEmbeddings()\n",
    "\n",
    "from elasticsearch import Elasticsearch\n",
    "\n",
    "\n",
    "elastic = Elasticsearch(hosts=[\"http://localhost:9200\"])\n",
    "index_name = \"test_index\""
   ]
  },
  {
   "cell_type": "code",
   "execution_count": 63,
   "id": "d7a96406",
   "metadata": {
    "ExecuteTime": {
     "end_time": "2023-08-01T20:03:29.893896Z",
     "start_time": "2023-08-01T20:03:27.271448Z"
    }
   },
   "outputs": [
    {
     "name": "stderr",
     "output_type": "stream",
     "text": [
      "/var/folders/3c/q4kkg14x6c9bg29754hkb_yr0000gn/T/ipykernel_63774/2402150112.py:1: DeprecationWarning: The 'body' parameter is deprecated and will be removed in a future version. Instead use individual parameters.\n",
      "  elastic.delete_by_query(index=[index_name], body={\"query\": {\"match_all\": {}}})\n"
     ]
    },
    {
     "data": {
      "text/plain": [
       "ObjectApiResponse({'took': 1620, 'timed_out': False, 'total': 3921, 'deleted': 3921, 'batches': 4, 'version_conflicts': 0, 'noops': 0, 'retries': {'bulk': 0, 'search': 0}, 'throttled_millis': 0, 'requests_per_second': -1.0, 'throttled_until_millis': 0, 'failures': []})"
      ]
     },
     "execution_count": 63,
     "metadata": {},
     "output_type": "execute_result"
    }
   ],
   "source": [
    "elastic.delete_by_query(index=[index_name], body={\"query\": {\"match_all\": {}}})"
   ]
  },
  {
   "cell_type": "code",
   "execution_count": 64,
   "id": "60a0f4ea",
   "metadata": {
    "ExecuteTime": {
     "end_time": "2023-08-01T20:04:31.463637Z",
     "start_time": "2023-08-01T20:03:29.906382Z"
    }
   },
   "outputs": [
    {
     "name": "stdout",
     "output_type": "stream",
     "text": [
      "CPU times: user 7.7 s, sys: 1.91 s, total: 9.61 s\n",
      "Wall time: 1min 1s\n"
     ]
    }
   ],
   "source": [
    "%%time\n",
    "\n",
    "elasticdb_gpt = ElasticVectorSearch.from_documents(\n",
    "    docs,\n",
    "    embedding,\n",
    "    index_name=index_name,\n",
    "    elasticsearch_url=\"http://localhost:9200\"\n",
    ")\n"
   ]
  },
  {
   "cell_type": "markdown",
   "id": "6302dbc1",
   "metadata": {},
   "source": [
    "go here http://localhost:5601/app/r/s/70gZ3 to see vector embeddings"
   ]
  },
  {
   "cell_type": "code",
   "execution_count": 65,
   "id": "7ebfb775",
   "metadata": {
    "ExecuteTime": {
     "end_time": "2023-08-01T20:04:31.483865Z",
     "start_time": "2023-08-01T20:04:31.471221Z"
    }
   },
   "outputs": [],
   "source": [
    "elastic_vector_search = ElasticVectorSearch(\n",
    "            elasticsearch_url=\"http://localhost:9200\",\n",
    "            index_name=index_name,\n",
    "            embedding=embedding\n",
    "        )"
   ]
  },
  {
   "cell_type": "code",
   "execution_count": 66,
   "id": "6608d527",
   "metadata": {
    "ExecuteTime": {
     "end_time": "2023-08-01T20:04:31.492392Z",
     "start_time": "2023-08-01T20:04:31.489571Z"
    }
   },
   "outputs": [],
   "source": [
    "elastic_vector_search_knn = ElasticKnnSearch(\n",
    "\n",
    "            es_connection=elasticdb_gpt.client,\n",
    "            index_name=index_name,\n",
    "            embedding=embedding\n",
    ")"
   ]
  },
  {
   "cell_type": "markdown",
   "id": "bbca66e3",
   "metadata": {},
   "source": [
    "##  Search\n",
    "\n",
    "When a query comes in we first convert it to a vector and then compare the vector to the elements in the database to get n most similar results.\n",
    "\n",
    "**Similarity Search**\n",
    "1. Similarity Search aims to find the most similar items to a given query in a dataset.\n",
    "2. It uses metrics like cosine similarity, Jaccard similarity, or Euclidean distance to quantify similarity.\n",
    "3. The search results are ranked based on their similarity scores, and the top-K items are returned.\n",
    "4. Use-cases: When the user's intent is clear and specific, similarity search is efficient. It's commonly used in standard search engines, recommendation systems, or any scenario where the goal is to find items most similar to the query.\n",
    "\n",
    "**Maximal Marginal Relevance (MMR) Search**\n",
    "1. MMR aims to provide a diverse set of results that are relevant to the query.\n",
    "2. Along with quantifying similarity to the query, MMR also considers similarity between items in the results set to ensure diversity.\n",
    "3. It aims to maximize the relevance of the returned items to the query, but also minimize the similarity between the returned items.\n",
    "4. Use-cases: When user intent is ambiguous or when there are multiple relevant responses, MMR can provide a more diverse set of results. It's useful in news article recommendation (to avoid recommending too many similar articles) or in conversational AI (to provide diverse responses).\n",
    "\n",
    "The choice between similarity search and MMR depends on the specific use case and user needs. If the aim is to provide a diverse set of results, MMR would be more suitable. If the goal is to find items most similar to the query, a similarity search would be more efficient."
   ]
  },
  {
   "cell_type": "markdown",
   "id": "93524545",
   "metadata": {},
   "source": [
    "### Keyword search"
   ]
  },
  {
   "cell_type": "code",
   "execution_count": 67,
   "id": "45f36b49",
   "metadata": {
    "ExecuteTime": {
     "end_time": "2023-08-01T20:04:32.048265Z",
     "start_time": "2023-08-01T20:04:31.495600Z"
    },
    "scrolled": true
   },
   "outputs": [],
   "source": [
    "#keyword search\n",
    "resp = elasticdb_gpt.client.search(q=\"What is Natural language processing\", query={\"match_all\": {}})"
   ]
  },
  {
   "cell_type": "code",
   "execution_count": 68,
   "id": "d9c1f4e9",
   "metadata": {
    "ExecuteTime": {
     "end_time": "2023-08-01T20:04:32.099977Z",
     "start_time": "2023-08-01T20:04:32.054203Z"
    }
   },
   "outputs": [
    {
     "name": "stdout",
     "output_type": "stream",
     "text": [
      "Got 10000 Hits:\n"
     ]
    },
    {
     "data": {
      "text/html": [
       "<div>\n",
       "<style scoped>\n",
       "    .dataframe tbody tr th:only-of-type {\n",
       "        vertical-align: middle;\n",
       "    }\n",
       "\n",
       "    .dataframe tbody tr th {\n",
       "        vertical-align: top;\n",
       "    }\n",
       "\n",
       "    .dataframe thead th {\n",
       "        text-align: right;\n",
       "    }\n",
       "</style>\n",
       "<table border=\"1\" class=\"dataframe\">\n",
       "  <thead>\n",
       "    <tr style=\"text-align: right;\">\n",
       "      <th></th>\n",
       "      <th>text</th>\n",
       "      <th>score</th>\n",
       "    </tr>\n",
       "  </thead>\n",
       "  <tbody>\n",
       "    <tr>\n",
       "      <th>0</th>\n",
       "      <td>cross language text classi?cation is an import...</td>\n",
       "      <td>20.207375</td>\n",
       "    </tr>\n",
       "    <tr>\n",
       "      <th>1</th>\n",
       "      <td>cross language text classi?cation is an import...</td>\n",
       "      <td>20.207375</td>\n",
       "    </tr>\n",
       "    <tr>\n",
       "      <th>2</th>\n",
       "      <td>Classically, tasks in natural language process...</td>\n",
       "      <td>18.876570</td>\n",
       "    </tr>\n",
       "    <tr>\n",
       "      <th>3</th>\n",
       "      <td>It obtains new state-of-the-art results on ele...</td>\n",
       "      <td>18.226519</td>\n",
       "    </tr>\n",
       "    <tr>\n",
       "      <th>4</th>\n",
       "      <td>our framework is inspired by state-of-the-art ...</td>\n",
       "      <td>17.344196</td>\n",
       "    </tr>\n",
       "  </tbody>\n",
       "</table>\n",
       "</div>"
      ],
      "text/plain": [
       "                                                text      score\n",
       "0  cross language text classi?cation is an import...  20.207375\n",
       "1  cross language text classi?cation is an import...  20.207375\n",
       "2  Classically, tasks in natural language process...  18.876570\n",
       "3  It obtains new state-of-the-art results on ele...  18.226519\n",
       "4  our framework is inspired by state-of-the-art ...  17.344196"
      ]
     },
     "execution_count": 68,
     "metadata": {},
     "output_type": "execute_result"
    }
   ],
   "source": [
    "print(\"Got %d Hits:\" % resp['hits']['total']['value'])\n",
    "table = []\n",
    "for hit in resp['hits']['hits']:\n",
    "    table.append([hit['_source']['text'], hit['_score']])\n",
    "table_df = pd.DataFrame(table, columns=[\"text\", \"score\"])\n",
    "\n",
    "table_df.head()"
   ]
  },
  {
   "cell_type": "markdown",
   "id": "30d78c45",
   "metadata": {},
   "source": [
    "### Similarity Search"
   ]
  },
  {
   "cell_type": "code",
   "execution_count": 69,
   "id": "ffc2a094",
   "metadata": {
    "ExecuteTime": {
     "end_time": "2023-08-01T20:04:32.997798Z",
     "start_time": "2023-08-01T20:04:32.104997Z"
    }
   },
   "outputs": [
    {
     "data": {
      "text/plain": [
       "[Document(page_content=\"a long-term goal of machine learning research is to build an intelligent dialog agent. most research in natural language understanding has focused on learning from fixed training sets of labeled data, with supervision either at the word level (tagging, parsing tasks) or sentence level (question answering, machine translation). this kind of supervision is not realistic of how humans learn, where language is both learned by, and used for, communication. in this work, we study dialog-based language learning, where supervision is given naturally and implicitly in the response of the dialog partner during the conversation. we study this setup in two domains: the babi dataset of (weston et al., 2015) and large-scale question answering from (dodge et al., 2015). we evaluate a set of baseline learning strategies on these tasks, and show that a novel model incorporating predictive lookahead is a promising approach for learning from a teacher's response. in particular, a surprising result is that it can learn to answer questions correctly without any reward-based supervision at all.\", metadata={'paper_id': 6264, 'year': 2016, 'authors': 'Jason E. Weston', 'title': 'dialog-based language learning'}),\n",
       " Document(page_content='teaching machines to read natural language documents remains an elusive challenge. machine reading systems can be tested on their ability to answer questions posed on the contents of documents that they have seen, but until now large scale training and test datasets have been missing for this type of evaluation. in this work we define a new methodology that resolves this bottleneck and provides large scale supervised reading comprehension data. this allows us to develop a class of attention based deep neural networks that learn to read real documents and answer complex questions with minimal prior knowledge of language structure.', metadata={'paper_id': 5945, 'year': 2015, 'authors': 'Karl Moritz Hermann,Tomas Kocisky,Edward Grefenstette,Lasse Espeholt,Will Kay,Mustafa Suleyman,Phil Blunsom', 'title': 'teaching machines to read and comprehend'}),\n",
       " Document(page_content=\"users want natural language processing (nlp) systems to be both fast and accurate, but quality often comes at the cost of speed. the field has been manually exploring various speed-accuracy tradeoffs (for particular problems and datasets). we aim to explore this space automatically, focusing here on the case of agenda-based syntactic parsing \\\\cite{kay-1986}. unfortunately, off-the-shelf reinforcement learning techniques fail to learn good policies: the state space is simply too large to explore naively. an attempt to counteract this by applying imitation learning algorithms also fails: the ``teacher'' is far too good to successfully imitate with our inexpensive features. moreover, it is not specifically tuned for the known reward function. we propose a hybrid reinforcement/apprenticeship learning algorithm that, even with only a few inexpensive features, can automatically learn weights that achieve competitive accuracies at significant improvements in speed over state-of-the-art baselines.\", metadata={'paper_id': 4556, 'year': 2012, 'authors': 'Jiarong Jiang,Adam Teichert,Jason Eisner,Hal Daume', 'title': 'learned prioritization for trading off accuracy and speed'}),\n",
       " Document(page_content='neural probabilistic language models (nplms) have been shown to be competitive with and occasionally superior to the widely-used n-gram language models. the main drawback of nplms is their extremely long training and testing times. morin and bengio have proposed a hierarchical language model built around a binary tree of words that was two orders of magnitude faster than the non-hierarchical language model it was based on. however, it performed considerably worse than its non-hierarchical counterpart in spite of using a word tree created using expert knowledge. we introduce a fast hierarchical language model along with a simple feature-based algorithm for automatic construction of word trees from the data. we then show that the resulting models can outperform non-hierarchical models and achieve state-of-the-art performance.', metadata={'paper_id': 3583, 'year': 2008, 'authors': 'Andriy Mnih,Geoffrey E. Hinton', 'title': 'a scalable hierarchical distributed language model'})]"
      ]
     },
     "execution_count": 69,
     "metadata": {},
     "output_type": "execute_result"
    }
   ],
   "source": [
    "vectordb_gpt.similarity_search(\"What is Natural language processing\")"
   ]
  },
  {
   "cell_type": "code",
   "execution_count": 70,
   "id": "a4d83dbe",
   "metadata": {
    "ExecuteTime": {
     "end_time": "2023-08-01T20:04:33.468783Z",
     "start_time": "2023-08-01T20:04:33.001226Z"
    }
   },
   "outputs": [
    {
     "data": {
      "text/plain": [
       "[(Document(page_content=\"a long-term goal of machine learning research is to build an intelligent dialog agent. most research in natural language understanding has focused on learning from fixed training sets of labeled data, with supervision either at the word level (tagging, parsing tasks) or sentence level (question answering, machine translation). this kind of supervision is not realistic of how humans learn, where language is both learned by, and used for, communication. in this work, we study dialog-based language learning, where supervision is given naturally and implicitly in the response of the dialog partner during the conversation. we study this setup in two domains: the babi dataset of (weston et al., 2015) and large-scale question answering from (dodge et al., 2015). we evaluate a set of baseline learning strategies on these tasks, and show that a novel model incorporating predictive lookahead is a promising approach for learning from a teacher's response. in particular, a surprising result is that it can learn to answer questions correctly without any reward-based supervision at all.\", metadata={'paper_id': 6264, 'year': 2016, 'authors': 'Jason E. Weston', 'title': 'dialog-based language learning'}),\n",
       "  0.32937347888946533),\n",
       " (Document(page_content='teaching machines to read natural language documents remains an elusive challenge. machine reading systems can be tested on their ability to answer questions posed on the contents of documents that they have seen, but until now large scale training and test datasets have been missing for this type of evaluation. in this work we define a new methodology that resolves this bottleneck and provides large scale supervised reading comprehension data. this allows us to develop a class of attention based deep neural networks that learn to read real documents and answer complex questions with minimal prior knowledge of language structure.', metadata={'paper_id': 5945, 'year': 2015, 'authors': 'Karl Moritz Hermann,Tomas Kocisky,Edward Grefenstette,Lasse Espeholt,Will Kay,Mustafa Suleyman,Phil Blunsom', 'title': 'teaching machines to read and comprehend'}),\n",
       "  0.33700695633888245),\n",
       " (Document(page_content=\"users want natural language processing (nlp) systems to be both fast and accurate, but quality often comes at the cost of speed. the field has been manually exploring various speed-accuracy tradeoffs (for particular problems and datasets). we aim to explore this space automatically, focusing here on the case of agenda-based syntactic parsing \\\\cite{kay-1986}. unfortunately, off-the-shelf reinforcement learning techniques fail to learn good policies: the state space is simply too large to explore naively. an attempt to counteract this by applying imitation learning algorithms also fails: the ``teacher'' is far too good to successfully imitate with our inexpensive features. moreover, it is not specifically tuned for the known reward function. we propose a hybrid reinforcement/apprenticeship learning algorithm that, even with only a few inexpensive features, can automatically learn weights that achieve competitive accuracies at significant improvements in speed over state-of-the-art baselines.\", metadata={'paper_id': 4556, 'year': 2012, 'authors': 'Jiarong Jiang,Adam Teichert,Jason Eisner,Hal Daume', 'title': 'learned prioritization for trading off accuracy and speed'}),\n",
       "  0.3395526111125946),\n",
       " (Document(page_content='neural probabilistic language models (nplms) have been shown to be competitive with and occasionally superior to the widely-used n-gram language models. the main drawback of nplms is their extremely long training and testing times. morin and bengio have proposed a hierarchical language model built around a binary tree of words that was two orders of magnitude faster than the non-hierarchical language model it was based on. however, it performed considerably worse than its non-hierarchical counterpart in spite of using a word tree created using expert knowledge. we introduce a fast hierarchical language model along with a simple feature-based algorithm for automatic construction of word trees from the data. we then show that the resulting models can outperform non-hierarchical models and achieve state-of-the-art performance.', metadata={'paper_id': 3583, 'year': 2008, 'authors': 'Andriy Mnih,Geoffrey E. Hinton', 'title': 'a scalable hierarchical distributed language model'}),\n",
       "  0.34854090213775635)]"
      ]
     },
     "execution_count": 70,
     "metadata": {},
     "output_type": "execute_result"
    }
   ],
   "source": [
    "vectordb_gpt.similarity_search_with_score(\"What is Natural language processing\")"
   ]
  },
  {
   "cell_type": "code",
   "execution_count": 71,
   "id": "470baeb1",
   "metadata": {
    "ExecuteTime": {
     "end_time": "2023-08-01T20:04:33.913676Z",
     "start_time": "2023-08-01T20:04:33.473434Z"
    }
   },
   "outputs": [
    {
     "data": {
      "text/plain": [
       "[Document(page_content='when used to guide decisions, linear regression analysis typically involves estimation of regression coefficients via ordinary least squares and their subsequent use to make decisions. when there are multiple response variables and features do not perfectly capture their relationships, it is beneficial to account for the decision objective when computing regression coefficients. empirical optimization does so but sacrifices performance when features are well-chosen or training data are insufficient. we propose directed regression, an efficient algorithm that combines merits of ordinary least squares and empirical optimization. we demonstrate through a computational study that directed regression can generate significant performance gains over either alternative. we also develop a theory that motivates the algorithm.', metadata={'paper_id': 3686, 'year': 2009, 'authors': 'Yi-hao Kao,Benjamin V. Roy,Xiang Yan', 'title': 'directed regression'}),\n",
       " Document(page_content='linear regression studies the problem of estimating a model parameter $\\\\beta^* \\\\in \\\\r^p$, from $n$ observations $\\\\{(y_i,x_i)\\\\}_{i=1}^n$ from linear model $y_i = \\\\langle \\\\x_i,\\\\beta^* \\\\rangle + \\\\epsilon_i$. we consider a significant generalization in which the relationship between $\\\\langle x_i,\\\\beta^* \\\\rangle$ and $y_i$ is noisy, quantized to a single bit, potentially nonlinear, noninvertible, as well as unknown. this model is known as the single-index model in statistics, and, among other things, it represents a significant generalization of one-bit compressed sensing. we propose a novel spectral-based estimation procedure and show that we can recover $\\\\beta^*$ in settings (i.e., classes of link function $f$) where previous algorithms fail. in general, our algorithm requires only very mild restrictions on the (unknown) functional relationship between $y_i$ and $\\\\langle x_i,\\\\beta^* \\\\rangle$. we also consider the high dimensional setting where $\\\\beta^*$ is sparse, and introduce a two-stage nonconvex framework that addresses estimation challenges in high dimensional regimes where $p \\\\gg n$. for a broad class of link functions between $\\\\langle x_i,\\\\beta^* \\\\rangle$ and $y_i$, we establish minimax lower bounds that demonstrate the optimality of our estimators in both the classical and high dimensional regimes.', metadata={'paper_id': 6013, 'year': 2015, 'authors': 'Xinyang Yi,Zhaoran Wang,Constantine Caramanis,Han Liu', 'title': 'optimal linear estimation under unknown nonlinear transform'}),\n",
       " Document(page_content='this article considers algorithmic and statistical aspects of linear regression when the correspondence between the covariates and the responses is unknown. first, a fully polynomial-time approximation scheme is given for the natural least squares optimization problem in any constant dimension. next, in an average-case and noise-free setting where the responses exactly correspond to a linear function of i.i.d. draws from a standard multivariate normal distribution, an efficient algorithm based on lattice basis reduction is shown to exactly recover the unknown linear function in arbitrary dimension. finally, lower bounds on the signal-to-noise ratio are established for approximate recovery of the unknown linear function by any estimator.', metadata={'paper_id': 6751, 'year': 2017, 'authors': 'Daniel J. Hsu,Kevin Shi,Xiaorui Sun', 'title': 'linear regression without correspondence'}),\n",
       " Document(page_content='in a regression task, a predictor is given a set of instances, along with a real value for each point. subsequently, she has to identify the value of a new instance as accurately as possible. in this work, we initiate the study of strategic predictions in machine learning. we consider a regression task tackled by two players, where the payoff of each player is the proportion of the points she predicts more accurately than the other player. we first revise the probably approximately correct learning framework to deal with the case of a duel between two predictors. we then devise an algorithm which finds a linear regression predictor that is a best response to any (not necessarily linear) regression algorithm. we show that it has linearithmic sample complexity, and polynomial time complexity when the dimension of the instances domain is fixed. we also test our approach in a high-dimensional setting, and show it significantly defeats classical regression algorithms in the prediction duel. together, our work introduces a novel machine learning task that lends itself well to current competitive online settings, provides its theoretical foundations, and illustrates its applicability.', metadata={'paper_id': 6748, 'year': 2017, 'authors': 'Omer Ben Porat,Moshe Tennenholtz', 'title': 'best response regression'})]"
      ]
     },
     "execution_count": 71,
     "metadata": {},
     "output_type": "execute_result"
    }
   ],
   "source": [
    "vectordb_gpt.similarity_search(\"What is linear regression\")"
   ]
  },
  {
   "cell_type": "code",
   "execution_count": 72,
   "id": "8ae07bef",
   "metadata": {
    "ExecuteTime": {
     "end_time": "2023-08-01T20:04:34.829178Z",
     "start_time": "2023-08-01T20:04:33.916434Z"
    }
   },
   "outputs": [
    {
     "data": {
      "text/plain": [
       "[(Document(page_content=\"a long-term goal of machine learning research is to build an intelligent dialog agent. most research in natural language understanding has focused on learning from fixed training sets of labeled data, with supervision either at the word level (tagging, parsing tasks) or sentence level (question answering, machine translation). this kind of supervision is not realistic of how humans learn, where language is both learned by, and used for, communication. in this work, we study dialog-based language learning, where supervision is given naturally and implicitly in the response of the dialog partner during the conversation. we study this setup in two domains: the babi dataset of (weston et al., 2015) and large-scale question answering from (dodge et al., 2015). we evaluate a set of baseline learning strategies on these tasks, and show that a novel model incorporating predictive lookahead is a promising approach for learning from a teacher's response. in particular, a surprising result is that it can learn to answer questions correctly without any reward-based supervision at all.\", metadata={'paper_id': 6264, 'year': 2016, 'authors': 'Jason E. Weston', 'title': 'dialog-based language learning'}),\n",
       "  1.8354564),\n",
       " (Document(page_content='teaching machines to read natural language documents remains an elusive challenge. machine reading systems can be tested on their ability to answer questions posed on the contents of documents that they have seen, but until now large scale training and test datasets have been missing for this type of evaluation. in this work we define a new methodology that resolves this bottleneck and provides large scale supervised reading comprehension data. this allows us to develop a class of attention based deep neural networks that learn to read real documents and answer complex questions with minimal prior knowledge of language structure.', metadata={'paper_id': 5945, 'year': 2015, 'authors': 'Karl Moritz Hermann,Tomas Kocisky,Edward Grefenstette,Lasse Espeholt,Will Kay,Mustafa Suleyman,Phil Blunsom', 'title': 'teaching machines to read and comprehend'}),\n",
       "  1.831579),\n",
       " (Document(page_content=\"users want natural language processing (nlp) systems to be both fast and accurate, but quality often comes at the cost of speed. the field has been manually exploring various speed-accuracy tradeoffs (for particular problems and datasets). we aim to explore this space automatically, focusing here on the case of agenda-based syntactic parsing \\\\cite{kay-1986}. unfortunately, off-the-shelf reinforcement learning techniques fail to learn good policies: the state space is simply too large to explore naively. an attempt to counteract this by applying imitation learning algorithms also fails: the ``teacher'' is far too good to successfully imitate with our inexpensive features. moreover, it is not specifically tuned for the known reward function. we propose a hybrid reinforcement/apprenticeship learning algorithm that, even with only a few inexpensive features, can automatically learn weights that achieve competitive accuracies at significant improvements in speed over state-of-the-art baselines.\", metadata={'paper_id': 4556, 'year': 2012, 'authors': 'Jiarong Jiang,Adam Teichert,Jason Eisner,Hal Daume', 'title': 'learned prioritization for trading off accuracy and speed'}),\n",
       "  1.8303548),\n",
       " (Document(page_content='neural probabilistic language models (nplms) have been shown to be competitive with and occasionally superior to the widely-used n-gram language models. the main drawback of nplms is their extremely long training and testing times. morin and bengio have proposed a hierarchical language model built around a binary tree of words that was two orders of magnitude faster than the non-hierarchical language model it was based on. however, it performed considerably worse than its non-hierarchical counterpart in spite of using a word tree created using expert knowledge. we introduce a fast hierarchical language model along with a simple feature-based algorithm for automatic construction of word trees from the data. we then show that the resulting models can outperform non-hierarchical models and achieve state-of-the-art performance.', metadata={'paper_id': 3583, 'year': 2008, 'authors': 'Andriy Mnih,Geoffrey E. Hinton', 'title': 'a scalable hierarchical distributed language model'}),\n",
       "  1.825721)]"
      ]
     },
     "execution_count": 72,
     "metadata": {},
     "output_type": "execute_result"
    }
   ],
   "source": [
    "elasticdb_gpt.similarity_search_with_score(\"What is Natural language processing\")"
   ]
  },
  {
   "cell_type": "code",
   "execution_count": 73,
   "id": "71f8d296",
   "metadata": {
    "ExecuteTime": {
     "end_time": "2023-08-01T20:04:35.413713Z",
     "start_time": "2023-08-01T20:04:34.831972Z"
    }
   },
   "outputs": [
    {
     "data": {
      "text/plain": [
       "[(Document(page_content=\"a long-term goal of machine learning research is to build an intelligent dialog agent. most research in natural language understanding has focused on learning from fixed training sets of labeled data, with supervision either at the word level (tagging, parsing tasks) or sentence level (question answering, machine translation). this kind of supervision is not realistic of how humans learn, where language is both learned by, and used for, communication. in this work, we study dialog-based language learning, where supervision is given naturally and implicitly in the response of the dialog partner during the conversation. we study this setup in two domains: the babi dataset of (weston et al., 2015) and large-scale question answering from (dodge et al., 2015). we evaluate a set of baseline learning strategies on these tasks, and show that a novel model incorporating predictive lookahead is a promising approach for learning from a teacher's response. in particular, a surprising result is that it can learn to answer questions correctly without any reward-based supervision at all.\", metadata={'paper_id': 6264, 'year': 2016, 'authors': 'Jason E. Weston', 'title': 'dialog-based language learning'}),\n",
       "  1.8354564),\n",
       " (Document(page_content='teaching machines to read natural language documents remains an elusive challenge. machine reading systems can be tested on their ability to answer questions posed on the contents of documents that they have seen, but until now large scale training and test datasets have been missing for this type of evaluation. in this work we define a new methodology that resolves this bottleneck and provides large scale supervised reading comprehension data. this allows us to develop a class of attention based deep neural networks that learn to read real documents and answer complex questions with minimal prior knowledge of language structure.', metadata={'paper_id': 5945, 'year': 2015, 'authors': 'Karl Moritz Hermann,Tomas Kocisky,Edward Grefenstette,Lasse Espeholt,Will Kay,Mustafa Suleyman,Phil Blunsom', 'title': 'teaching machines to read and comprehend'}),\n",
       "  1.831579),\n",
       " (Document(page_content=\"users want natural language processing (nlp) systems to be both fast and accurate, but quality often comes at the cost of speed. the field has been manually exploring various speed-accuracy tradeoffs (for particular problems and datasets). we aim to explore this space automatically, focusing here on the case of agenda-based syntactic parsing \\\\cite{kay-1986}. unfortunately, off-the-shelf reinforcement learning techniques fail to learn good policies: the state space is simply too large to explore naively. an attempt to counteract this by applying imitation learning algorithms also fails: the ``teacher'' is far too good to successfully imitate with our inexpensive features. moreover, it is not specifically tuned for the known reward function. we propose a hybrid reinforcement/apprenticeship learning algorithm that, even with only a few inexpensive features, can automatically learn weights that achieve competitive accuracies at significant improvements in speed over state-of-the-art baselines.\", metadata={'paper_id': 4556, 'year': 2012, 'authors': 'Jiarong Jiang,Adam Teichert,Jason Eisner,Hal Daume', 'title': 'learned prioritization for trading off accuracy and speed'}),\n",
       "  1.8303548),\n",
       " (Document(page_content='neural probabilistic language models (nplms) have been shown to be competitive with and occasionally superior to the widely-used n-gram language models. the main drawback of nplms is their extremely long training and testing times. morin and bengio have proposed a hierarchical language model built around a binary tree of words that was two orders of magnitude faster than the non-hierarchical language model it was based on. however, it performed considerably worse than its non-hierarchical counterpart in spite of using a word tree created using expert knowledge. we introduce a fast hierarchical language model along with a simple feature-based algorithm for automatic construction of word trees from the data. we then show that the resulting models can outperform non-hierarchical models and achieve state-of-the-art performance.', metadata={'paper_id': 3583, 'year': 2008, 'authors': 'Andriy Mnih,Geoffrey E. Hinton', 'title': 'a scalable hierarchical distributed language model'}),\n",
       "  1.825721)]"
      ]
     },
     "execution_count": 73,
     "metadata": {},
     "output_type": "execute_result"
    }
   ],
   "source": [
    "elastic_vector_search_knn.similarity_search_with_score(\"What is Natural language processing\")"
   ]
  },
  {
   "cell_type": "markdown",
   "id": "1e3099ef",
   "metadata": {},
   "source": [
    "### Maximum marginal relevance\n",
    "\n",
    "Maximum marginal relevance strives to achieve both relevance to the query and diversity among the results."
   ]
  },
  {
   "cell_type": "code",
   "execution_count": 74,
   "id": "c764326d",
   "metadata": {
    "ExecuteTime": {
     "end_time": "2023-08-01T20:04:36.076001Z",
     "start_time": "2023-08-01T20:04:35.418260Z"
    }
   },
   "outputs": [
    {
     "data": {
      "text/plain": [
       "[Document(page_content='when used to guide decisions, linear regression analysis typically involves estimation of regression coefficients via ordinary least squares and their subsequent use to make decisions. when there are multiple response variables and features do not perfectly capture their relationships, it is beneficial to account for the decision objective when computing regression coefficients. empirical optimization does so but sacrifices performance when features are well-chosen or training data are insufficient. we propose directed regression, an efficient algorithm that combines merits of ordinary least squares and empirical optimization. we demonstrate through a computational study that directed regression can generate significant performance gains over either alternative. we also develop a theory that motivates the algorithm.', metadata={'paper_id': 3686, 'year': 2009, 'authors': 'Yi-hao Kao,Benjamin V. Roy,Xiang Yan', 'title': 'directed regression'}),\n",
       " Document(page_content='linear regression studies the problem of estimating a model parameter $\\\\beta^* \\\\in \\\\r^p$, from $n$ observations $\\\\{(y_i,x_i)\\\\}_{i=1}^n$ from linear model $y_i = \\\\langle \\\\x_i,\\\\beta^* \\\\rangle + \\\\epsilon_i$. we consider a significant generalization in which the relationship between $\\\\langle x_i,\\\\beta^* \\\\rangle$ and $y_i$ is noisy, quantized to a single bit, potentially nonlinear, noninvertible, as well as unknown. this model is known as the single-index model in statistics, and, among other things, it represents a significant generalization of one-bit compressed sensing. we propose a novel spectral-based estimation procedure and show that we can recover $\\\\beta^*$ in settings (i.e., classes of link function $f$) where previous algorithms fail. in general, our algorithm requires only very mild restrictions on the (unknown) functional relationship between $y_i$ and $\\\\langle x_i,\\\\beta^* \\\\rangle$. we also consider the high dimensional setting where $\\\\beta^*$ is sparse, and introduce a two-stage nonconvex framework that addresses estimation challenges in high dimensional regimes where $p \\\\gg n$. for a broad class of link functions between $\\\\langle x_i,\\\\beta^* \\\\rangle$ and $y_i$, we establish minimax lower bounds that demonstrate the optimality of our estimators in both the classical and high dimensional regimes.', metadata={'paper_id': 6013, 'year': 2015, 'authors': 'Xinyang Yi,Zhaoran Wang,Constantine Caramanis,Han Liu', 'title': 'optimal linear estimation under unknown nonlinear transform'}),\n",
       " Document(page_content='this paper proposes an efficient algorithm (holrr) to handle regression tasks where the outputs have a tensor structure. we formulate the regression problem as the minimization of a least square criterion under a multilinear rank constraint, a difficult non convex problem. holrr computes efficiently an approximate solution of this problem, with solid theoretical guarantees. a kernel extension is also presented. experiments on synthetic and real data show that holrr computes accurate solutions while being computationally very competitive.', metadata={'paper_id': 6302, 'year': 2016, 'authors': 'Guillaume Rabusseau,Hachem Kadri', 'title': 'low-rank regression with tensor responses'}),\n",
       " Document(page_content='the development of statistical models for continuous-time longitudinal network data is of increasing interest in machine learning and social science. leveraging ideas from survival and event history analysis, we introduce a continuous-time regression modeling framework for network event data that can incorporate both time-dependent network statistics and time-varying regression coefficients. we also develop an efficient inference scheme that allows our approach to scale to large networks. on synthetic and real-world data, empirical results demonstrate that the proposed inference approach can accurately estimate the coefficients of the regression model, which is useful for interpreting the evolution of the network; furthermore, the learned model has systematically better predictive performance compared to standard baseline methods.', metadata={'paper_id': 4436, 'year': 2011, 'authors': 'Duy Q. Vu,David Hunter,Padhraic Smyth,Arthur U. Asuncion', 'title': 'continuous-time regression models for longitudinal networks'})]"
      ]
     },
     "execution_count": 74,
     "metadata": {},
     "output_type": "execute_result"
    }
   ],
   "source": [
    "vectordb_gpt.max_marginal_relevance_search(\"What is linear regression\")"
   ]
  },
  {
   "cell_type": "code",
   "execution_count": 75,
   "id": "a35827dd",
   "metadata": {
    "ExecuteTime": {
     "end_time": "2023-08-01T20:04:37.129864Z",
     "start_time": "2023-08-01T20:04:36.083266Z"
    }
   },
   "outputs": [
    {
     "data": {
      "text/plain": [
       "[Document(page_content=\"a long-term goal of machine learning research is to build an intelligent dialog agent. most research in natural language understanding has focused on learning from fixed training sets of labeled data, with supervision either at the word level (tagging, parsing tasks) or sentence level (question answering, machine translation). this kind of supervision is not realistic of how humans learn, where language is both learned by, and used for, communication. in this work, we study dialog-based language learning, where supervision is given naturally and implicitly in the response of the dialog partner during the conversation. we study this setup in two domains: the babi dataset of (weston et al., 2015) and large-scale question answering from (dodge et al., 2015). we evaluate a set of baseline learning strategies on these tasks, and show that a novel model incorporating predictive lookahead is a promising approach for learning from a teacher's response. in particular, a surprising result is that it can learn to answer questions correctly without any reward-based supervision at all.\", metadata={'paper_id': 6264, 'year': 2016, 'authors': 'Jason E. Weston', 'title': 'dialog-based language learning'}),\n",
       " Document(page_content='it is commonly assumed that language refers to high-level visual concepts while leaving low-level visual processing unaffected. this view dominates the current literature in computational models for language-vision tasks, where visual and linguistic inputs are mostly processed independently before being fused into a single representation. in this paper, we deviate from this classic pipeline and propose to modulate the \\\\emph{entire visual processing} by a linguistic input. specifically, we introduce conditional batch normalization (cbn) as an efficient mechanism to modulate convolutional feature maps by a linguistic embedding. we apply cbn to a pre-trained residual network (resnet), leading to the modulated resnet (\\\\mrn) architecture, and show that this significantly improves strong baselines on two visual question answering tasks. our ablation study confirms that modulating from the early stages of the visual processing is beneficial.', metadata={'paper_id': 7237, 'year': 2017, 'authors': 'Harm de Vries,Florian Strub,Jeremie Mary,Hugo Larochelle,Olivier Pietquin,Aaron C. Courville', 'title': 'modulating early visual processing by language'}),\n",
       " Document(page_content='neural probabilistic language models (nplms) have been shown to be competitive with and occasionally superior to the widely-used n-gram language models. the main drawback of nplms is their extremely long training and testing times. morin and bengio have proposed a hierarchical language model built around a binary tree of words that was two orders of magnitude faster than the non-hierarchical language model it was based on. however, it performed considerably worse than its non-hierarchical counterpart in spite of using a word tree created using expert knowledge. we introduce a fast hierarchical language model along with a simple feature-based algorithm for automatic construction of word trees from the data. we then show that the resulting models can outperform non-hierarchical models and achieve state-of-the-art performance.', metadata={'paper_id': 3583, 'year': 2008, 'authors': 'Andriy Mnih,Geoffrey E. Hinton', 'title': 'a scalable hierarchical distributed language model'}),\n",
       " Document(page_content='natural sounds are structured on many time-scales. a typical segment of speech, for example, contains features that span four orders of magnitude: sentences (~1s); phonemes (~0.1s); glottal pulses (~0.01s); and formants (<0.001s). the auditory system uses information from each of these time-scales to solve complicated tasks such as auditory scene analysis. one route toward understanding how auditory processing accomplishes this analysis is to build neuroscience-inspired algorithms which solve similar tasks and to compare the properties of these algorithms with properties of auditory processing. there is however a discord: current machine-audition algorithms largely concentrate on the shorter time-scale structures in sounds, and the longer structures are ignored. the reason for this is two-fold. firstly, it is a difficult technical problem to construct an algorithm that utilises both sorts of information. secondly, it is computationally demanding to simultaneously process data both at high resolution (to extract short temporal information) and for long duration (to extract long temporal information). the contribution of this work is to develop a new statistical model for natural sounds that captures structure across a wide range of time-scales, and to provide efficient learning and inference algorithms. we demonstrate the success of this approach on a missing data task.', metadata={'paper_id': 3366, 'year': 2007, 'authors': 'Richard Turner,Maneesh Sahani', 'title': 'modeling natural sounds with modulation cascade processes'})]"
      ]
     },
     "execution_count": 75,
     "metadata": {},
     "output_type": "execute_result"
    }
   ],
   "source": [
    "vectordb_gpt.max_marginal_relevance_search(\"What is natural language processing\")"
   ]
  },
  {
   "cell_type": "code",
   "execution_count": 76,
   "id": "8e95f320",
   "metadata": {
    "ExecuteTime": {
     "end_time": "2023-08-01T20:04:37.698734Z",
     "start_time": "2023-08-01T20:04:37.133661Z"
    }
   },
   "outputs": [
    {
     "data": {
      "text/plain": [
       "[]"
      ]
     },
     "execution_count": 76,
     "metadata": {},
     "output_type": "execute_result"
    }
   ],
   "source": [
    "vectordb_gpt.max_marginal_relevance_search(\"What is natural language processing\", filter={\"year\":1990})"
   ]
  },
  {
   "cell_type": "markdown",
   "id": "fc965eae",
   "metadata": {},
   "source": [
    "## Question and Answer\n",
    "\n",
    "\n",
    "When a query comes in we first convert it to a vector and then compare the vector to the elements in the database to get n most similar results. These results are then passed into prompt as a context for LLM to process them\n"
   ]
  },
  {
   "cell_type": "code",
   "execution_count": 77,
   "id": "069a4966",
   "metadata": {
    "ExecuteTime": {
     "end_time": "2023-08-01T20:04:37.710353Z",
     "start_time": "2023-08-01T20:04:37.701042Z"
    }
   },
   "outputs": [],
   "source": [
    "llm = OpenAI(temperature=0)\n",
    "llm.openai_api_key = os.environ[\"OPENAI_API_KEY\"]"
   ]
  },
  {
   "cell_type": "code",
   "execution_count": 78,
   "id": "dd39a96d",
   "metadata": {
    "ExecuteTime": {
     "end_time": "2023-08-01T20:04:37.724715Z",
     "start_time": "2023-08-01T20:04:37.713714Z"
    }
   },
   "outputs": [],
   "source": [
    "from langchain.prompts import PromptTemplate\n",
    "template = \"\"\"Use the following pieces of context to answer the question at the end. If you don't know the answer, just say that you don't know, don't try to make up an answer. Use three sentences maximum. Keep the answer as concise as possible. \n",
    "{context}\n",
    "Question: {question}\n",
    "Helpful Answer:\"\"\"\n",
    "QA_CHAIN_PROMPT = PromptTemplate(input_variables=[\"context\", \"question\"],template=template,)\n"
   ]
  },
  {
   "cell_type": "code",
   "execution_count": 79,
   "id": "7980c1f8",
   "metadata": {
    "ExecuteTime": {
     "end_time": "2023-08-01T20:04:40.746851Z",
     "start_time": "2023-08-01T20:04:37.727636Z"
    }
   },
   "outputs": [
    {
     "data": {
      "text/plain": [
       "' Linear regression is a statistical technique used to model the relationship between a response variable and one or more predictor variables. It involves estimating regression coefficients via ordinary least squares and using them to make decisions. It can also be used to predict the value of a response variable given a set of predictor variables.'"
      ]
     },
     "execution_count": 79,
     "metadata": {},
     "output_type": "execute_result"
    }
   ],
   "source": [
    "from langchain.chains import RetrievalQA\n",
    "\n",
    "question = \"What is linear regression?\"\n",
    "qa_chain = RetrievalQA.from_chain_type(llm,\n",
    "                                       retriever=elasticdb_gpt.as_retriever(search_type=\"similarity\", search_kwargs={\"k\": 5}),\n",
    "                                       return_source_documents=True,\n",
    "                                       chain_type_kwargs={\"prompt\": QA_CHAIN_PROMPT})\n",
    "\n",
    "\n",
    "result = qa_chain({\"query\": question})\n",
    "result[\"result\"]"
   ]
  },
  {
   "cell_type": "code",
   "execution_count": 80,
   "id": "29b181e8",
   "metadata": {
    "ExecuteTime": {
     "end_time": "2023-08-01T20:04:40.764724Z",
     "start_time": "2023-08-01T20:04:40.750394Z"
    }
   },
   "outputs": [
    {
     "data": {
      "text/plain": [
       "[Document(page_content='when used to guide decisions, linear regression analysis typically involves estimation of regression coefficients via ordinary least squares and their subsequent use to make decisions. when there are multiple response variables and features do not perfectly capture their relationships, it is beneficial to account for the decision objective when computing regression coefficients. empirical optimization does so but sacrifices performance when features are well-chosen or training data are insufficient. we propose directed regression, an efficient algorithm that combines merits of ordinary least squares and empirical optimization. we demonstrate through a computational study that directed regression can generate significant performance gains over either alternative. we also develop a theory that motivates the algorithm.', metadata={'paper_id': 3686, 'year': 2009, 'authors': 'Yi-hao Kao,Benjamin V. Roy,Xiang Yan', 'title': 'directed regression'}),\n",
       " Document(page_content='this article considers algorithmic and statistical aspects of linear regression when the correspondence between the covariates and the responses is unknown. first, a fully polynomial-time approximation scheme is given for the natural least squares optimization problem in any constant dimension. next, in an average-case and noise-free setting where the responses exactly correspond to a linear function of i.i.d. draws from a standard multivariate normal distribution, an efficient algorithm based on lattice basis reduction is shown to exactly recover the unknown linear function in arbitrary dimension. finally, lower bounds on the signal-to-noise ratio are established for approximate recovery of the unknown linear function by any estimator.', metadata={'paper_id': 6751, 'year': 2017, 'authors': 'Daniel J. Hsu,Kevin Shi,Xiaorui Sun', 'title': 'linear regression without correspondence'}),\n",
       " Document(page_content='linear regression studies the problem of estimating a model parameter $\\\\beta^* \\\\in \\\\r^p$, from $n$ observations $\\\\{(y_i,x_i)\\\\}_{i=1}^n$ from linear model $y_i = \\\\langle \\\\x_i,\\\\beta^* \\\\rangle + \\\\epsilon_i$. we consider a significant generalization in which the relationship between $\\\\langle x_i,\\\\beta^* \\\\rangle$ and $y_i$ is noisy, quantized to a single bit, potentially nonlinear, noninvertible, as well as unknown. this model is known as the single-index model in statistics, and, among other things, it represents a significant generalization of one-bit compressed sensing. we propose a novel spectral-based estimation procedure and show that we can recover $\\\\beta^*$ in settings (i.e., classes of link function $f$) where previous algorithms fail. in general, our algorithm requires only very mild restrictions on the (unknown) functional relationship between $y_i$ and $\\\\langle x_i,\\\\beta^* \\\\rangle$. we also consider the high dimensional setting where $\\\\beta^*$ is sparse, and introduce a two-stage nonconvex framework that addresses estimation challenges in high dimensional regimes where $p \\\\gg n$. for a broad class of link functions between $\\\\langle x_i,\\\\beta^* \\\\rangle$ and $y_i$, we establish minimax lower bounds that demonstrate the optimality of our estimators in both the classical and high dimensional regimes.', metadata={'paper_id': 6013, 'year': 2015, 'authors': 'Xinyang Yi,Zhaoran Wang,Constantine Caramanis,Han Liu', 'title': 'optimal linear estimation under unknown nonlinear transform'}),\n",
       " Document(page_content='in a regression task, a predictor is given a set of instances, along with a real value for each point. subsequently, she has to identify the value of a new instance as accurately as possible. in this work, we initiate the study of strategic predictions in machine learning. we consider a regression task tackled by two players, where the payoff of each player is the proportion of the points she predicts more accurately than the other player. we first revise the probably approximately correct learning framework to deal with the case of a duel between two predictors. we then devise an algorithm which finds a linear regression predictor that is a best response to any (not necessarily linear) regression algorithm. we show that it has linearithmic sample complexity, and polynomial time complexity when the dimension of the instances domain is fixed. we also test our approach in a high-dimensional setting, and show it significantly defeats classical regression algorithms in the prediction duel. together, our work introduces a novel machine learning task that lends itself well to current competitive online settings, provides its theoretical foundations, and illustrates its applicability.', metadata={'paper_id': 6748, 'year': 2017, 'authors': 'Omer Ben Porat,Moshe Tennenholtz', 'title': 'best response regression'}),\n",
       " Document(page_content='online sparse linear regression is the task of applying linear regression analysis to examples arriving sequentially subject to a resource constraint that a limited number of features of examples can be observed. despite its importance in many practical applications, it has been recently shown that there is no polynomial-time sublinear-regret algorithm unless np$\\\\subseteq$bpp, and only an exponential-time sublinear-regret algorithm has been found. in this paper, we introduce mild assumptions to solve the problem. under these assumptions, we present polynomial-time sublinear-regret algorithms for the online sparse linear regression. in addition, thorough experiments with publicly available data demonstrate that our algorithms outperform other known algorithms.', metadata={'paper_id': 6998, 'year': 2017, 'authors': 'Shinji Ito,Daisuke Hatano,Hanna Sumita,Akihiro Yabe,Takuro Fukunaga,Naonori Kakimura,Ken-Ichi Kawarabayashi', 'title': 'efficient sublinear-regret algorithms for online sparse linear regression with limited observation'})]"
      ]
     },
     "execution_count": 80,
     "metadata": {},
     "output_type": "execute_result"
    }
   ],
   "source": [
    "result['source_documents']"
   ]
  },
  {
   "cell_type": "code",
   "execution_count": 81,
   "id": "877de9f2",
   "metadata": {
    "ExecuteTime": {
     "end_time": "2023-08-01T20:04:46.834384Z",
     "start_time": "2023-08-01T20:04:40.768176Z"
    }
   },
   "outputs": [
    {
     "data": {
      "text/plain": [
       "{'query': 'What is linear regression?',\n",
       " 'result': ' Linear regression is a statistical method used to model the relationship between a dependent variable and one or more independent variables. It involves estimation of regression coefficients via ordinary least squares and their subsequent use to make decisions. It is also used for function estimation and model selection in high-dimensional data analysis.',\n",
       " 'source_documents': [Document(page_content='when used to guide decisions, linear regression analysis typically involves estimation of regression coefficients via ordinary least squares and their subsequent use to make decisions. when there are multiple response variables and features do not perfectly capture their relationships, it is beneficial to account for the decision objective when computing regression coefficients. empirical optimization does so but sacrifices performance when features are well-chosen or training data are insufficient. we propose directed regression, an efficient algorithm that combines merits of ordinary least squares and empirical optimization. we demonstrate through a computational study that directed regression can generate significant performance gains over either alternative. we also develop a theory that motivates the algorithm.', metadata={'paper_id': 3686, 'year': 2009, 'authors': 'Yi-hao Kao,Benjamin V. Roy,Xiang Yan', 'title': 'directed regression'}),\n",
       "  Document(page_content='this article considers algorithmic and statistical aspects of linear regression when the correspondence between the covariates and the responses is unknown. first, a fully polynomial-time approximation scheme is given for the natural least squares optimization problem in any constant dimension. next, in an average-case and noise-free setting where the responses exactly correspond to a linear function of i.i.d. draws from a standard multivariate normal distribution, an efficient algorithm based on lattice basis reduction is shown to exactly recover the unknown linear function in arbitrary dimension. finally, lower bounds on the signal-to-noise ratio are established for approximate recovery of the unknown linear function by any estimator.', metadata={'paper_id': 6751, 'year': 2017, 'authors': 'Daniel J. Hsu,Kevin Shi,Xiaorui Sun', 'title': 'linear regression without correspondence'}),\n",
       "  Document(page_content='linear regression studies the problem of estimating a model parameter $\\\\beta^* \\\\in \\\\r^p$, from $n$ observations $\\\\{(y_i,x_i)\\\\}_{i=1}^n$ from linear model $y_i = \\\\langle \\\\x_i,\\\\beta^* \\\\rangle + \\\\epsilon_i$. we consider a significant generalization in which the relationship between $\\\\langle x_i,\\\\beta^* \\\\rangle$ and $y_i$ is noisy, quantized to a single bit, potentially nonlinear, noninvertible, as well as unknown. this model is known as the single-index model in statistics, and, among other things, it represents a significant generalization of one-bit compressed sensing. we propose a novel spectral-based estimation procedure and show that we can recover $\\\\beta^*$ in settings (i.e., classes of link function $f$) where previous algorithms fail. in general, our algorithm requires only very mild restrictions on the (unknown) functional relationship between $y_i$ and $\\\\langle x_i,\\\\beta^* \\\\rangle$. we also consider the high dimensional setting where $\\\\beta^*$ is sparse, and introduce a two-stage nonconvex framework that addresses estimation challenges in high dimensional regimes where $p \\\\gg n$. for a broad class of link functions between $\\\\langle x_i,\\\\beta^* \\\\rangle$ and $y_i$, we establish minimax lower bounds that demonstrate the optimality of our estimators in both the classical and high dimensional regimes.', metadata={'paper_id': 6013, 'year': 2015, 'authors': 'Xinyang Yi,Zhaoran Wang,Constantine Caramanis,Han Liu', 'title': 'optimal linear estimation under unknown nonlinear transform'}),\n",
       "  Document(page_content='in a regression task, a predictor is given a set of instances, along with a real value for each point. subsequently, she has to identify the value of a new instance as accurately as possible. in this work, we initiate the study of strategic predictions in machine learning. we consider a regression task tackled by two players, where the payoff of each player is the proportion of the points she predicts more accurately than the other player. we first revise the probably approximately correct learning framework to deal with the case of a duel between two predictors. we then devise an algorithm which finds a linear regression predictor that is a best response to any (not necessarily linear) regression algorithm. we show that it has linearithmic sample complexity, and polynomial time complexity when the dimension of the instances domain is fixed. we also test our approach in a high-dimensional setting, and show it significantly defeats classical regression algorithms in the prediction duel. together, our work introduces a novel machine learning task that lends itself well to current competitive online settings, provides its theoretical foundations, and illustrates its applicability.', metadata={'paper_id': 6748, 'year': 2017, 'authors': 'Omer Ben Porat,Moshe Tennenholtz', 'title': 'best response regression'}),\n",
       "  Document(page_content='online sparse linear regression is the task of applying linear regression analysis to examples arriving sequentially subject to a resource constraint that a limited number of features of examples can be observed. despite its importance in many practical applications, it has been recently shown that there is no polynomial-time sublinear-regret algorithm unless np$\\\\subseteq$bpp, and only an exponential-time sublinear-regret algorithm has been found. in this paper, we introduce mild assumptions to solve the problem. under these assumptions, we present polynomial-time sublinear-regret algorithms for the online sparse linear regression. in addition, thorough experiments with publicly available data demonstrate that our algorithms outperform other known algorithms.', metadata={'paper_id': 6998, 'year': 2017, 'authors': 'Shinji Ito,Daisuke Hatano,Hanna Sumita,Akihiro Yabe,Takuro Fukunaga,Naonori Kakimura,Ken-Ichi Kawarabayashi', 'title': 'efficient sublinear-regret algorithms for online sparse linear regression with limited observation'}),\n",
       "  Document(page_content='log-linear models are widely used probability models for statistical pattern recognition. typically, log-linear models are trained according to a convex criterion. in recent years, the interest in log-linear models has greatly increased. the optimization of log-linear model parameters is costly and therefore an important topic, in particular for large-scale applications. different optimization algorithms have been evaluated empirically in many papers. in this work, we analyze the optimization problem analytically and show that the training of log-linear models can be highly ill-conditioned. we verify our findings on two handwriting tasks. by making use of our convergence analysis, we obtain good results on a large-scale continuous handwriting recognition task with a simple and generic approach.', metadata={'paper_id': 4421, 'year': 2011, 'authors': 'Simon Wiesler,Hermann Ney', 'title': 'a convergence analysis of log-linear training'}),\n",
       "  Document(page_content='we study regression and classification in a setting where the learning algorithm is allowed to access only a limited number of attributes per example, known as the limited attribute observation model. in this well-studied model, we provide the first lower bounds giving a limit on the precision attainable by any algorithm for several variants of regression, notably linear regression with the absolute loss and the squared loss, as well as for classification with the hinge loss. we complement these lower bounds with a general purpose algorithm that gives an upper bound on the achievable precision limit in the setting of learning with missing data.', metadata={'paper_id': 6171, 'year': 2016, 'authors': 'Brian Bullins,Elad Hazan,Tomer Koren', 'title': 'the limits of learning with missing data'}),\n",
       "  Document(page_content='we present a new empirical risk minimization framework for approximating functions from training samples for low-dimensional regression applications where a lattice (look-up table) is stored and interpolated at run-time for an efficient hardware implementation. rather than evaluating a fitted function at the lattice nodes without regard to the fact that samples will be interpolated, the proposed lattice regression approach estimates the lattice to minimize the interpolation error on the given training samples. experiments show that lattice regression can reduce mean test error compared to gaussian process regression for digital color management of printers, an application for which linearly interpolating a look-up table (lut) is standard. simulations confirm that lattice regression performs consistently better than the naive approach to learning the lattice, particularly when the density of training samples is low.', metadata={'paper_id': 3694, 'year': 2009, 'authors': 'Eric Garcia,Maya Gupta', 'title': 'lattice regression'}),\n",
       "  Document(page_content='we consider linear models for stochastic dynamics. any such model can be associated a network (namely a directed graph) describing which degrees of freedom interact under the dynamics. we tackle the problem of learning such a network from observation of the system trajectory over a time interval t. we analyse the l1-regularized least squares algorithm and, in the setting in which the underlying network is sparse, we prove performance guarantees that are uniform in the sampling rate as long as this is sufficiently high. this result substantiates the notion of a well defined ?time complexity? for the network inference problem.', metadata={'paper_id': 4055, 'year': 2010, 'authors': 'Jos? Pereira,Morteza Ibrahimi,Andrea Montanari', 'title': 'learning networks of stochastic differential equations'}),\n",
       "  Document(page_content='we consider the problem of learning, from k input data, a regression function in a function space of high dimension n using projections onto a random subspace of lower dimension m. from any linear approximation algorithm using empirical risk minimization (possibly penalized), we provide bounds on the excess risk of the estimate computed in the projected subspace (compressed domain) in terms of the excess risk of the estimate built in the high-dimensional space (initial domain). we apply the analysis to the ordinary least-squares regression and show that by choosing m=o(\\\\sqrt{k}), the estimation error (for the quadratic loss) of the ``compressed least squares regression is o(1/\\\\sqrt{k}) up to logarithmic factors. we also discuss the numerical complexity of several algorithms (both in initial and compressed domains) as a function of n, k, and m.', metadata={'paper_id': 3698, 'year': 2009, 'authors': 'Odalric Maillard,R?mi Munos', 'title': 'compressed least-squares regression'}),\n",
       "  Document(page_content=\"in the high-dimensional regression model a response variable is linearly related to $p$ covariates, but the sample size $n$ is smaller than $p$. we assume that only a small subset of covariates is `active' (i.e., the corresponding coefficients are non-zero), and consider the model-selection problem of identifying the active covariates. a popular approach is to estimate the regression coefficients through the lasso ($\\\\ell_1$-regularized least squares). this is known to correctly identify the active set only if the irrelevant covariates are roughly orthogonal to the relevant ones, as quantified through the so called `irrepresentability' condition. in this paper we study the `gauss-lasso' selector, a simple two-stage method that first solves the lasso, and then performs ordinary least squares restricted to the lasso active set.  we formulate `generalized irrepresentability condition' (gic), an assumption that is substantially weaker than irrepresentability. we prove that, under gic, the gauss-lasso correctly recovers the active set.\", metadata={'paper_id': 4930, 'year': 2013, 'authors': 'Adel Javanmard,Andrea Montanari', 'title': 'model selection for high-dimensional regression under the generalized irrepresentability condition'}),\n",
       "  Document(page_content='learning problems such as logistic regression are typically formulated as pure optimization problems defined on some loss function. we argue that this view ignores the fact that the loss function depends on stochastically generated data which in turn determines an intrinsic scale of precision for statistical estimation. by considering the statistical properties of the update variables used during the optimization (e.g. gradients), we can construct frequentist hypothesis tests to determine the reliability of these updates. we utilize subsets of the data for computing updates, and use the hypothesis tests for determining when the batch-size needs to be increased. this provides computational benefits and avoids overfitting by stopping when the batch-size has become equal to size of the full dataset. moreover, the proposed algorithms depend on a single interpretable parameter ? the probability for an update to be in the wrong direction ? which is set to a single value across all algorithms and datasets. in this paper, we illustrate these ideas on three l1 regularized coordinate algorithms: l1 -regularized l2 -loss svms, l1 -regularized logistic regression, and the lasso, but we emphasize that the underlying methods are much more generally applicable.', metadata={'paper_id': 4308, 'year': 2011, 'authors': 'Levi Boyles,Anoop Korattikara,Deva Ramanan,Max Welling', 'title': 'statistical tests for optimization efficiency'}),\n",
       "  Document(page_content='we consider logistic regression with arbitrary outliers in the covariate matrix. we propose a new robust logistic regression algorithm, called rolr, that estimates the parameter through a simple linear programming procedure. we prove that rolr is robust to a constant fraction of adversarial outliers. to the best of our knowledge, this is the first result on estimating logistic regression model when the covariate matrix is corrupted with any performance guarantees. besides regression, we apply rolr to solving binary classification problems where a fraction of training samples are corrupted.', metadata={'paper_id': 5515, 'year': 2014, 'authors': 'Jiashi Feng,Huan Xu,Shie Mannor,Shuicheng Yan', 'title': 'robust logistic regression and classification'}),\n",
       "  Document(page_content='linear regression models have been successfully used to function estimation and model selection in high-dimensional data analysis. however, most existing methods are built on least squares with the mean square error (mse) criterion, which are sensitive to outliers and their performance may be degraded for heavy-tailed noise. in this paper, we go beyond this criterion by investigating the regularized modal regression from a statistical learning viewpoint. a new regularized modal regression model is proposed for estimation and variable selection, which is robust to outliers, heavy-tailed noise, and skewed noise. on the theoretical side, we establish the approximation estimate for learning the conditional mode function, the sparsity analysis for variable selection, and the robustness characterization. on the application side, we applied our model to successfully improve the cognitive impairment prediction using the alzheimer?s disease neuroimaging initiative (adni) cohort data.', metadata={'paper_id': 6743, 'year': 2017, 'authors': 'Xiaoqian Wang,Hong Chen,Weidong Cai,Dinggang Shen,Heng Huang', 'title': 'regularized modal regression with applications in cognitive impairment prediction'}),\n",
       "  Document(page_content='learning a regression function using censored or interval-valued output data is an important problem in fields such as genomics and medicine. the goal is to learn a real-valued prediction function, and the training output labels indicate an interval of possible values. whereas most existing algorithms for this task are linear models, in this paper we investigate learning nonlinear tree models. we propose to learn a tree by minimizing a margin-based discriminative objective function, and we provide a dynamic programming algorithm for computing the optimal solution in log-linear time. we show empirically that this algorithm achieves state-of-the-art speed and prediction accuracy in a benchmark of several data sets.', metadata={'paper_id': 7080, 'year': 2017, 'authors': 'Alexandre Drouin,Toby Hocking,Francois Laviolette', 'title': 'maximum margin interval trees'}),\n",
       "  Document(page_content='this paper proposes an efficient algorithm (holrr) to handle regression tasks where the outputs have a tensor structure. we formulate the regression problem as the minimization of a least square criterion under a multilinear rank constraint, a difficult non convex problem. holrr computes efficiently an approximate solution of this problem, with solid theoretical guarantees. a kernel extension is also presented. experiments on synthetic and real data show that holrr computes accurate solutions while being computationally very competitive.', metadata={'paper_id': 6302, 'year': 2016, 'authors': 'Guillaume Rabusseau,Hachem Kadri', 'title': 'low-rank regression with tensor responses'}),\n",
       "  Document(page_content='this paper proposes an efficient online learning algorithm to track the smoothing functions of additive models. the key idea is to combine the linear representation of additive models with a recursive least squares (rls) filter. in order to quickly track changes in the model and put more weight on recent data, the rls filter uses a forgetting factor which exponentially weights down observations by the order of their arrival. the tracking behaviour is further enhanced by using an adaptive forgetting factor which is updated based on the gradient of the a priori errors. using results from lyapunov stability theory, upper bounds for the learning rate are analyzed. the proposed algorithm is applied to 5 years of electricity load data provided by the french utility company electricite de france (edf). compared to state-of-the-art methods, it achieves a superior performance in terms of model tracking and prediction accuracy.', metadata={'paper_id': 4724, 'year': 2012, 'authors': 'Amadou Ba,Mathieu Sinn,Yannig Goude,Pascal Pompey', 'title': 'adaptive learning of smoothing functions: application to electricity load forecasting'}),\n",
       "  Document(page_content='accounts of how people learn functional relationships between continuous variables have tended to focus on two possibilities: that people are estimating explicit functions, or that they are simply performing associative learning supported by similarity. we provide a rational analysis of function learning, drawing on work on regression in machine learning and statistics. using the equivalence of bayesian linear regression and gaussian processes, we show that learning explicit rules and using similarity can be seen as two views of one solution to this problem. we use this insight to define a gaussian process model of human function learning that combines the strengths of both approaches.', metadata={'paper_id': 3529, 'year': 2008, 'authors': 'Thomas L. Griffiths,Chris Lucas,Joseph Williams,Michael L. Kalish', 'title': 'modeling human function learning with gaussian processes'}),\n",
       "  Document(page_content='we consider the minimization of a convex objective function defined on a hilbert space, which is only available through unbiased estimates of its gradients. this problem includes standard machine learning algorithms such as kernel logistic regression and least-squares regression, and is commonly referred to as a stochastic approximation problem in the operations research community. we provide a non-asymptotic analysis of the convergence of two well-known algorithms, stochastic gradient descent (a.k.a.~robbins-monro algorithm) as well as a simple modification where iterates are averaged (a.k.a.~polyak-ruppert averaging). our analysis suggests that a learning rate proportional to the inverse of the number of iterations, while leading to the optimal convergence rate in the strongly convex case, is not robust to the lack of strong convexity or the setting of the proportionality constant. this situation is remedied when using slower decays together with averaging, robustly leading to the optimal rate of convergence. we illustrate our theoretical results with simulations on synthetic and standard datasets.', metadata={'paper_id': 4316, 'year': 2011, 'authors': 'Eric Moulines,Francis R. Bach', 'title': 'non-asymptotic analysis of stochastic approximation algorithms for machine learning'}),\n",
       "  Document(page_content='this paper tackles the problem of selecting among several linear estimators in non-parametric regression; this includes model selection for linear regression, the choice of a regularization parameter in kernel ridge regression or spline smoothing, and the choice of a kernel in multiple kernel learning. we propose a new algorithm which first estimates consistently the variance of the noise, based upon the concept of minimal penalty which was previously introduced in the context of model selection. then, plugging our variance estimate in mallows $c_l$ penalty is proved to lead to an algorithm satisfying an oracle inequality. simulation experiments with kernel ridge regression and multiple kernel learning show that the proposed algorithm often improves significantly existing calibration procedures such as 10-fold cross-validation or generalized cross-validation.', metadata={'paper_id': 3639, 'year': 2009, 'authors': 'Sylvain Arlot,Francis R. Bach', 'title': 'data-driven calibration of linear estimators with minimal penalties'})]}"
      ]
     },
     "execution_count": 81,
     "metadata": {},
     "output_type": "execute_result"
    }
   ],
   "source": [
    "## WARNING this cell may overshoot your quesry costs\n",
    "qa_chain_mr = RetrievalQA.from_chain_type(\n",
    "    llm,\n",
    "    retriever=vectordb_gpt.as_retriever(search_type=\"similarity\", search_kwargs={\"k\": 20}),\n",
    "    return_source_documents=True,\n",
    "    chain_type=\"map_reduce\"\n",
    ")\n",
    "\n",
    "result = qa_chain_mr({\"query\": question})\n",
    "result"
   ]
  },
  {
   "cell_type": "code",
   "execution_count": 82,
   "id": "54827ce2",
   "metadata": {
    "ExecuteTime": {
     "end_time": "2023-08-01T20:07:26.635494Z",
     "start_time": "2023-08-01T20:04:46.916283Z"
    }
   },
   "outputs": [
    {
     "data": {
      "text/plain": [
       "{'query': 'What is linear regression?',\n",
       " 'result': '\\n\\nLinear regression is a statistical technique used to model the relationship between a dependent variable (the response variable) and one or more independent variables (the features). It is used to predict the value of the response variable based on the values of the features. It is typically used to guide decisions by estimating regression coefficients via ordinary least squares and using them to make decisions. Additionally, linear regression studies the problem of estimating a model parameter $\\\\beta^* \\\\in \\\\r^p$, from $n$ observations $\\\\{(y_i,x_i)\\\\}_{i=1}^n$ from linear model $y_i = \\\\langle \\\\x_i,\\\\beta^* \\\\rangle + \\\\epsilon_i$. It also considers a significant generalization in log-linear models, which are widely used probability models for statistical pattern recognition. These models are typically trained according to a convex criterion, and the optimization of log-linear model parameters is costly and therefore an important topic, in particular for large-scale applications. Different optimization algorithms have been evaluated empirically in many papers, and by making use of the convergence analysis, good results can be obtained on large-scale continuous handwriting recognition tasks with a simple and generic approach. Additionally',\n",
       " 'source_documents': [Document(page_content='when used to guide decisions, linear regression analysis typically involves estimation of regression coefficients via ordinary least squares and their subsequent use to make decisions. when there are multiple response variables and features do not perfectly capture their relationships, it is beneficial to account for the decision objective when computing regression coefficients. empirical optimization does so but sacrifices performance when features are well-chosen or training data are insufficient. we propose directed regression, an efficient algorithm that combines merits of ordinary least squares and empirical optimization. we demonstrate through a computational study that directed regression can generate significant performance gains over either alternative. we also develop a theory that motivates the algorithm.', metadata={'paper_id': 3686, 'year': 2009, 'authors': 'Yi-hao Kao,Benjamin V. Roy,Xiang Yan', 'title': 'directed regression'}),\n",
       "  Document(page_content='this article considers algorithmic and statistical aspects of linear regression when the correspondence between the covariates and the responses is unknown. first, a fully polynomial-time approximation scheme is given for the natural least squares optimization problem in any constant dimension. next, in an average-case and noise-free setting where the responses exactly correspond to a linear function of i.i.d. draws from a standard multivariate normal distribution, an efficient algorithm based on lattice basis reduction is shown to exactly recover the unknown linear function in arbitrary dimension. finally, lower bounds on the signal-to-noise ratio are established for approximate recovery of the unknown linear function by any estimator.', metadata={'paper_id': 6751, 'year': 2017, 'authors': 'Daniel J. Hsu,Kevin Shi,Xiaorui Sun', 'title': 'linear regression without correspondence'}),\n",
       "  Document(page_content='linear regression studies the problem of estimating a model parameter $\\\\beta^* \\\\in \\\\r^p$, from $n$ observations $\\\\{(y_i,x_i)\\\\}_{i=1}^n$ from linear model $y_i = \\\\langle \\\\x_i,\\\\beta^* \\\\rangle + \\\\epsilon_i$. we consider a significant generalization in which the relationship between $\\\\langle x_i,\\\\beta^* \\\\rangle$ and $y_i$ is noisy, quantized to a single bit, potentially nonlinear, noninvertible, as well as unknown. this model is known as the single-index model in statistics, and, among other things, it represents a significant generalization of one-bit compressed sensing. we propose a novel spectral-based estimation procedure and show that we can recover $\\\\beta^*$ in settings (i.e., classes of link function $f$) where previous algorithms fail. in general, our algorithm requires only very mild restrictions on the (unknown) functional relationship between $y_i$ and $\\\\langle x_i,\\\\beta^* \\\\rangle$. we also consider the high dimensional setting where $\\\\beta^*$ is sparse, and introduce a two-stage nonconvex framework that addresses estimation challenges in high dimensional regimes where $p \\\\gg n$. for a broad class of link functions between $\\\\langle x_i,\\\\beta^* \\\\rangle$ and $y_i$, we establish minimax lower bounds that demonstrate the optimality of our estimators in both the classical and high dimensional regimes.', metadata={'paper_id': 6013, 'year': 2015, 'authors': 'Xinyang Yi,Zhaoran Wang,Constantine Caramanis,Han Liu', 'title': 'optimal linear estimation under unknown nonlinear transform'}),\n",
       "  Document(page_content='in a regression task, a predictor is given a set of instances, along with a real value for each point. subsequently, she has to identify the value of a new instance as accurately as possible. in this work, we initiate the study of strategic predictions in machine learning. we consider a regression task tackled by two players, where the payoff of each player is the proportion of the points she predicts more accurately than the other player. we first revise the probably approximately correct learning framework to deal with the case of a duel between two predictors. we then devise an algorithm which finds a linear regression predictor that is a best response to any (not necessarily linear) regression algorithm. we show that it has linearithmic sample complexity, and polynomial time complexity when the dimension of the instances domain is fixed. we also test our approach in a high-dimensional setting, and show it significantly defeats classical regression algorithms in the prediction duel. together, our work introduces a novel machine learning task that lends itself well to current competitive online settings, provides its theoretical foundations, and illustrates its applicability.', metadata={'paper_id': 6748, 'year': 2017, 'authors': 'Omer Ben Porat,Moshe Tennenholtz', 'title': 'best response regression'}),\n",
       "  Document(page_content='online sparse linear regression is the task of applying linear regression analysis to examples arriving sequentially subject to a resource constraint that a limited number of features of examples can be observed. despite its importance in many practical applications, it has been recently shown that there is no polynomial-time sublinear-regret algorithm unless np$\\\\subseteq$bpp, and only an exponential-time sublinear-regret algorithm has been found. in this paper, we introduce mild assumptions to solve the problem. under these assumptions, we present polynomial-time sublinear-regret algorithms for the online sparse linear regression. in addition, thorough experiments with publicly available data demonstrate that our algorithms outperform other known algorithms.', metadata={'paper_id': 6998, 'year': 2017, 'authors': 'Shinji Ito,Daisuke Hatano,Hanna Sumita,Akihiro Yabe,Takuro Fukunaga,Naonori Kakimura,Ken-Ichi Kawarabayashi', 'title': 'efficient sublinear-regret algorithms for online sparse linear regression with limited observation'}),\n",
       "  Document(page_content='log-linear models are widely used probability models for statistical pattern recognition. typically, log-linear models are trained according to a convex criterion. in recent years, the interest in log-linear models has greatly increased. the optimization of log-linear model parameters is costly and therefore an important topic, in particular for large-scale applications. different optimization algorithms have been evaluated empirically in many papers. in this work, we analyze the optimization problem analytically and show that the training of log-linear models can be highly ill-conditioned. we verify our findings on two handwriting tasks. by making use of our convergence analysis, we obtain good results on a large-scale continuous handwriting recognition task with a simple and generic approach.', metadata={'paper_id': 4421, 'year': 2011, 'authors': 'Simon Wiesler,Hermann Ney', 'title': 'a convergence analysis of log-linear training'}),\n",
       "  Document(page_content='we study regression and classification in a setting where the learning algorithm is allowed to access only a limited number of attributes per example, known as the limited attribute observation model. in this well-studied model, we provide the first lower bounds giving a limit on the precision attainable by any algorithm for several variants of regression, notably linear regression with the absolute loss and the squared loss, as well as for classification with the hinge loss. we complement these lower bounds with a general purpose algorithm that gives an upper bound on the achievable precision limit in the setting of learning with missing data.', metadata={'paper_id': 6171, 'year': 2016, 'authors': 'Brian Bullins,Elad Hazan,Tomer Koren', 'title': 'the limits of learning with missing data'}),\n",
       "  Document(page_content='we present a new empirical risk minimization framework for approximating functions from training samples for low-dimensional regression applications where a lattice (look-up table) is stored and interpolated at run-time for an efficient hardware implementation. rather than evaluating a fitted function at the lattice nodes without regard to the fact that samples will be interpolated, the proposed lattice regression approach estimates the lattice to minimize the interpolation error on the given training samples. experiments show that lattice regression can reduce mean test error compared to gaussian process regression for digital color management of printers, an application for which linearly interpolating a look-up table (lut) is standard. simulations confirm that lattice regression performs consistently better than the naive approach to learning the lattice, particularly when the density of training samples is low.', metadata={'paper_id': 3694, 'year': 2009, 'authors': 'Eric Garcia,Maya Gupta', 'title': 'lattice regression'}),\n",
       "  Document(page_content='we consider linear models for stochastic dynamics. any such model can be associated a network (namely a directed graph) describing which degrees of freedom interact under the dynamics. we tackle the problem of learning such a network from observation of the system trajectory over a time interval t. we analyse the l1-regularized least squares algorithm and, in the setting in which the underlying network is sparse, we prove performance guarantees that are uniform in the sampling rate as long as this is sufficiently high. this result substantiates the notion of a well defined ?time complexity? for the network inference problem.', metadata={'paper_id': 4055, 'year': 2010, 'authors': 'Jos? Pereira,Morteza Ibrahimi,Andrea Montanari', 'title': 'learning networks of stochastic differential equations'}),\n",
       "  Document(page_content='we consider the problem of learning, from k input data, a regression function in a function space of high dimension n using projections onto a random subspace of lower dimension m. from any linear approximation algorithm using empirical risk minimization (possibly penalized), we provide bounds on the excess risk of the estimate computed in the projected subspace (compressed domain) in terms of the excess risk of the estimate built in the high-dimensional space (initial domain). we apply the analysis to the ordinary least-squares regression and show that by choosing m=o(\\\\sqrt{k}), the estimation error (for the quadratic loss) of the ``compressed least squares regression is o(1/\\\\sqrt{k}) up to logarithmic factors. we also discuss the numerical complexity of several algorithms (both in initial and compressed domains) as a function of n, k, and m.', metadata={'paper_id': 3698, 'year': 2009, 'authors': 'Odalric Maillard,R?mi Munos', 'title': 'compressed least-squares regression'}),\n",
       "  Document(page_content=\"in the high-dimensional regression model a response variable is linearly related to $p$ covariates, but the sample size $n$ is smaller than $p$. we assume that only a small subset of covariates is `active' (i.e., the corresponding coefficients are non-zero), and consider the model-selection problem of identifying the active covariates. a popular approach is to estimate the regression coefficients through the lasso ($\\\\ell_1$-regularized least squares). this is known to correctly identify the active set only if the irrelevant covariates are roughly orthogonal to the relevant ones, as quantified through the so called `irrepresentability' condition. in this paper we study the `gauss-lasso' selector, a simple two-stage method that first solves the lasso, and then performs ordinary least squares restricted to the lasso active set.  we formulate `generalized irrepresentability condition' (gic), an assumption that is substantially weaker than irrepresentability. we prove that, under gic, the gauss-lasso correctly recovers the active set.\", metadata={'paper_id': 4930, 'year': 2013, 'authors': 'Adel Javanmard,Andrea Montanari', 'title': 'model selection for high-dimensional regression under the generalized irrepresentability condition'}),\n",
       "  Document(page_content='learning problems such as logistic regression are typically formulated as pure optimization problems defined on some loss function. we argue that this view ignores the fact that the loss function depends on stochastically generated data which in turn determines an intrinsic scale of precision for statistical estimation. by considering the statistical properties of the update variables used during the optimization (e.g. gradients), we can construct frequentist hypothesis tests to determine the reliability of these updates. we utilize subsets of the data for computing updates, and use the hypothesis tests for determining when the batch-size needs to be increased. this provides computational benefits and avoids overfitting by stopping when the batch-size has become equal to size of the full dataset. moreover, the proposed algorithms depend on a single interpretable parameter ? the probability for an update to be in the wrong direction ? which is set to a single value across all algorithms and datasets. in this paper, we illustrate these ideas on three l1 regularized coordinate algorithms: l1 -regularized l2 -loss svms, l1 -regularized logistic regression, and the lasso, but we emphasize that the underlying methods are much more generally applicable.', metadata={'paper_id': 4308, 'year': 2011, 'authors': 'Levi Boyles,Anoop Korattikara,Deva Ramanan,Max Welling', 'title': 'statistical tests for optimization efficiency'}),\n",
       "  Document(page_content='we consider logistic regression with arbitrary outliers in the covariate matrix. we propose a new robust logistic regression algorithm, called rolr, that estimates the parameter through a simple linear programming procedure. we prove that rolr is robust to a constant fraction of adversarial outliers. to the best of our knowledge, this is the first result on estimating logistic regression model when the covariate matrix is corrupted with any performance guarantees. besides regression, we apply rolr to solving binary classification problems where a fraction of training samples are corrupted.', metadata={'paper_id': 5515, 'year': 2014, 'authors': 'Jiashi Feng,Huan Xu,Shie Mannor,Shuicheng Yan', 'title': 'robust logistic regression and classification'}),\n",
       "  Document(page_content='linear regression models have been successfully used to function estimation and model selection in high-dimensional data analysis. however, most existing methods are built on least squares with the mean square error (mse) criterion, which are sensitive to outliers and their performance may be degraded for heavy-tailed noise. in this paper, we go beyond this criterion by investigating the regularized modal regression from a statistical learning viewpoint. a new regularized modal regression model is proposed for estimation and variable selection, which is robust to outliers, heavy-tailed noise, and skewed noise. on the theoretical side, we establish the approximation estimate for learning the conditional mode function, the sparsity analysis for variable selection, and the robustness characterization. on the application side, we applied our model to successfully improve the cognitive impairment prediction using the alzheimer?s disease neuroimaging initiative (adni) cohort data.', metadata={'paper_id': 6743, 'year': 2017, 'authors': 'Xiaoqian Wang,Hong Chen,Weidong Cai,Dinggang Shen,Heng Huang', 'title': 'regularized modal regression with applications in cognitive impairment prediction'}),\n",
       "  Document(page_content='learning a regression function using censored or interval-valued output data is an important problem in fields such as genomics and medicine. the goal is to learn a real-valued prediction function, and the training output labels indicate an interval of possible values. whereas most existing algorithms for this task are linear models, in this paper we investigate learning nonlinear tree models. we propose to learn a tree by minimizing a margin-based discriminative objective function, and we provide a dynamic programming algorithm for computing the optimal solution in log-linear time. we show empirically that this algorithm achieves state-of-the-art speed and prediction accuracy in a benchmark of several data sets.', metadata={'paper_id': 7080, 'year': 2017, 'authors': 'Alexandre Drouin,Toby Hocking,Francois Laviolette', 'title': 'maximum margin interval trees'}),\n",
       "  Document(page_content='this paper proposes an efficient algorithm (holrr) to handle regression tasks where the outputs have a tensor structure. we formulate the regression problem as the minimization of a least square criterion under a multilinear rank constraint, a difficult non convex problem. holrr computes efficiently an approximate solution of this problem, with solid theoretical guarantees. a kernel extension is also presented. experiments on synthetic and real data show that holrr computes accurate solutions while being computationally very competitive.', metadata={'paper_id': 6302, 'year': 2016, 'authors': 'Guillaume Rabusseau,Hachem Kadri', 'title': 'low-rank regression with tensor responses'}),\n",
       "  Document(page_content='this paper proposes an efficient online learning algorithm to track the smoothing functions of additive models. the key idea is to combine the linear representation of additive models with a recursive least squares (rls) filter. in order to quickly track changes in the model and put more weight on recent data, the rls filter uses a forgetting factor which exponentially weights down observations by the order of their arrival. the tracking behaviour is further enhanced by using an adaptive forgetting factor which is updated based on the gradient of the a priori errors. using results from lyapunov stability theory, upper bounds for the learning rate are analyzed. the proposed algorithm is applied to 5 years of electricity load data provided by the french utility company electricite de france (edf). compared to state-of-the-art methods, it achieves a superior performance in terms of model tracking and prediction accuracy.', metadata={'paper_id': 4724, 'year': 2012, 'authors': 'Amadou Ba,Mathieu Sinn,Yannig Goude,Pascal Pompey', 'title': 'adaptive learning of smoothing functions: application to electricity load forecasting'}),\n",
       "  Document(page_content='accounts of how people learn functional relationships between continuous variables have tended to focus on two possibilities: that people are estimating explicit functions, or that they are simply performing associative learning supported by similarity. we provide a rational analysis of function learning, drawing on work on regression in machine learning and statistics. using the equivalence of bayesian linear regression and gaussian processes, we show that learning explicit rules and using similarity can be seen as two views of one solution to this problem. we use this insight to define a gaussian process model of human function learning that combines the strengths of both approaches.', metadata={'paper_id': 3529, 'year': 2008, 'authors': 'Thomas L. Griffiths,Chris Lucas,Joseph Williams,Michael L. Kalish', 'title': 'modeling human function learning with gaussian processes'}),\n",
       "  Document(page_content='we consider the minimization of a convex objective function defined on a hilbert space, which is only available through unbiased estimates of its gradients. this problem includes standard machine learning algorithms such as kernel logistic regression and least-squares regression, and is commonly referred to as a stochastic approximation problem in the operations research community. we provide a non-asymptotic analysis of the convergence of two well-known algorithms, stochastic gradient descent (a.k.a.~robbins-monro algorithm) as well as a simple modification where iterates are averaged (a.k.a.~polyak-ruppert averaging). our analysis suggests that a learning rate proportional to the inverse of the number of iterations, while leading to the optimal convergence rate in the strongly convex case, is not robust to the lack of strong convexity or the setting of the proportionality constant. this situation is remedied when using slower decays together with averaging, robustly leading to the optimal rate of convergence. we illustrate our theoretical results with simulations on synthetic and standard datasets.', metadata={'paper_id': 4316, 'year': 2011, 'authors': 'Eric Moulines,Francis R. Bach', 'title': 'non-asymptotic analysis of stochastic approximation algorithms for machine learning'}),\n",
       "  Document(page_content='this paper tackles the problem of selecting among several linear estimators in non-parametric regression; this includes model selection for linear regression, the choice of a regularization parameter in kernel ridge regression or spline smoothing, and the choice of a kernel in multiple kernel learning. we propose a new algorithm which first estimates consistently the variance of the noise, based upon the concept of minimal penalty which was previously introduced in the context of model selection. then, plugging our variance estimate in mallows $c_l$ penalty is proved to lead to an algorithm satisfying an oracle inequality. simulation experiments with kernel ridge regression and multiple kernel learning show that the proposed algorithm often improves significantly existing calibration procedures such as 10-fold cross-validation or generalized cross-validation.', metadata={'paper_id': 3639, 'year': 2009, 'authors': 'Sylvain Arlot,Francis R. Bach', 'title': 'data-driven calibration of linear estimators with minimal penalties'})]}"
      ]
     },
     "execution_count": 82,
     "metadata": {},
     "output_type": "execute_result"
    }
   ],
   "source": [
    "## WARNING this cell may overshoot your quesry costs\n",
    "qa_chain_refine = RetrievalQA.from_chain_type(\n",
    "    llm,\n",
    "    retriever=vectordb_gpt.as_retriever(search_type=\"similarity\", search_kwargs={\"k\": 20}),\n",
    "    return_source_documents=True,\n",
    "    chain_type=\"refine\"\n",
    ")\n",
    "\n",
    "result = qa_chain_refine({\"query\": question})\n",
    "result"
   ]
  },
  {
   "cell_type": "code",
   "execution_count": 83,
   "id": "51923140",
   "metadata": {
    "ExecuteTime": {
     "end_time": "2023-08-01T20:07:26.672584Z",
     "start_time": "2023-08-01T20:07:26.645907Z"
    }
   },
   "outputs": [],
   "source": [
    "from langchain import PromptTemplate\n",
    "\n",
    "def query_db(db, users_question, llm, k=10,filter={}):\n",
    "  # define the prompt template\n",
    "  template = \"\"\"\n",
    "  Given the following context sections, answer the\n",
    "  question using only the given context. If you are unsure and the answer is not\n",
    "  explicitly writting in the documentation, say \"Sorry, I don't know how to help with that.\"\n",
    "\n",
    "  Context sections:\n",
    "  {context}\n",
    "\n",
    "  Question:\n",
    "  {users_question}\n",
    "\n",
    "  Answer:\n",
    "  \"\"\"\n",
    "  prompt = PromptTemplate(template=template, input_variables=[\"context\", \"users_question\"])\n",
    "    # use our vector store to find similar text chunks\n",
    "  results = db.similarity_search(\n",
    "      query=users_question,\n",
    "      n_results=k,\n",
    "      filter=filter\n",
    "  )\n",
    "\n",
    "\n",
    "  # fill the prompt template\n",
    "  prompt_text = prompt.format(context = results, users_question = users_question)\n",
    "\n",
    "  # ask the defined LLM\n",
    "  return llm(prompt_text)\n",
    "\n",
    "\n",
    "def query_db_relevance(db, users_question, llm, k=10, filter={}):\n",
    "  # define the prompt template\n",
    "  template = \"\"\"\n",
    "  Given the following context sections, answer the\n",
    "  question using only the given context. If you are unsure and the answer is not\n",
    "  explicitly writting in the documentation, say \"Sorry, I don't know how to help with that.\"\n",
    "\n",
    "  Context sections:\n",
    "  {context}\n",
    "\n",
    "  Question:\n",
    "  {users_question}\n",
    "\n",
    "  Answer:\n",
    "  \"\"\"\n",
    "  prompt = PromptTemplate(template=template, input_variables=[\"context\", \"users_question\"])\n",
    "    # use our vector store to find similar text chunks\n",
    "  results = db.max_marginal_relevance_search(\n",
    "      query=users_question,\n",
    "      n_results=k,\n",
    "      filter=filter\n",
    "  )\n",
    "\n",
    "  # fill the prompt template\n",
    "  prompt_text = prompt.format(context = results, users_question = users_question)\n",
    "\n",
    "  # ask the defined LLM\n",
    "  return llm(prompt_text)\n"
   ]
  },
  {
   "cell_type": "code",
   "execution_count": 84,
   "id": "76d64bd4",
   "metadata": {
    "ExecuteTime": {
     "end_time": "2023-08-01T20:07:28.983933Z",
     "start_time": "2023-08-01T20:07:26.678987Z"
    }
   },
   "outputs": [
    {
     "data": {
      "text/plain": [
       "' Linear regression is a method of estimating a model parameter from observations from a linear model, where the relationship between the covariates and the responses is unknown. It typically involves estimation of regression coefficients via ordinary least squares and their subsequent use to make decisions.'"
      ]
     },
     "execution_count": 84,
     "metadata": {},
     "output_type": "execute_result"
    }
   ],
   "source": [
    "query_db(vectordb_gpt,\"What is linear regression?\" , llm, k=10)"
   ]
  },
  {
   "cell_type": "code",
   "execution_count": 85,
   "id": "a8f5cadb",
   "metadata": {
    "ExecuteTime": {
     "end_time": "2023-08-01T20:07:37.515440Z",
     "start_time": "2023-08-01T20:07:29.171815Z"
    }
   },
   "outputs": [
    {
     "data": {
      "text/plain": [
       "' Linear regression is a method of estimating a model parameter from observations of a linear model, where the relationship between the model parameter and the observations is noisy, quantized to a single bit, potentially nonlinear, noninvertible, and unknown.'"
      ]
     },
     "execution_count": 85,
     "metadata": {},
     "output_type": "execute_result"
    }
   ],
   "source": [
    "query_db_relevance(vectordb_gpt,\"What is linear regression?\" , llm)"
   ]
  },
  {
   "cell_type": "code",
   "execution_count": 86,
   "id": "94573f65",
   "metadata": {
    "ExecuteTime": {
     "end_time": "2023-08-01T20:07:41.378317Z",
     "start_time": "2023-08-01T20:07:37.522816Z"
    }
   },
   "outputs": [
    {
     "data": {
      "text/plain": [
       "'Linear regression is a method of estimating a model parameter from observations from a linear model, where the relationship between the covariates and the responses is unknown. It typically involves estimation of regression coefficients via ordinary least squares and their subsequent use to make decisions.'"
      ]
     },
     "execution_count": 86,
     "metadata": {},
     "output_type": "execute_result"
    }
   ],
   "source": [
    "query_db(elasticdb_gpt,\"What is linear regression?\" , llm)"
   ]
  },
  {
   "cell_type": "code",
   "execution_count": 87,
   "id": "787663b6",
   "metadata": {
    "ExecuteTime": {
     "end_time": "2023-08-01T20:07:44.111200Z",
     "start_time": "2023-08-01T20:07:41.387759Z"
    }
   },
   "outputs": [
    {
     "data": {
      "text/plain": [
       "' Natural language processing (NLP) is a field of computer science, artificial intelligence, and linguistics concerned with the interactions between computers and human (natural) languages. It is used to build systems that can understand, interpret, and manipulate human language, including speech recognition, natural language understanding, and natural language generation.'"
      ]
     },
     "execution_count": 87,
     "metadata": {},
     "output_type": "execute_result"
    }
   ],
   "source": [
    "query_db(vectordb_gpt,\"What is Natural language processing?\" , llm)"
   ]
  },
  {
   "cell_type": "code",
   "execution_count": 88,
   "id": "87c172fa",
   "metadata": {
    "ExecuteTime": {
     "end_time": "2023-08-01T20:07:46.413403Z",
     "start_time": "2023-08-01T20:07:44.115299Z"
    }
   },
   "outputs": [
    {
     "data": {
      "text/plain": [
       "' Natural language processing (NLP) is a field of computer science, artificial intelligence, and linguistics concerned with the interactions between computers and human (natural) languages. It is used to build systems that can understand, interpret, and manipulate human language, including speech recognition, natural language understanding, and natural language generation.'"
      ]
     },
     "execution_count": 88,
     "metadata": {},
     "output_type": "execute_result"
    }
   ],
   "source": [
    "query_db(elasticdb_gpt,\"What is Natural language processing?\" , llm)"
   ]
  },
  {
   "cell_type": "code",
   "execution_count": 89,
   "id": "b8d6df13",
   "metadata": {
    "ExecuteTime": {
     "end_time": "2023-08-01T20:07:49.555768Z",
     "start_time": "2023-08-01T20:07:46.418313Z"
    }
   },
   "outputs": [
    {
     "data": {
      "text/plain": [
       "' Natural language processing (NLP) is a field of computer science, artificial intelligence, and linguistics concerned with the interactions between computers and human (natural) languages. It is used to build applications such as voice recognition, natural language understanding, and machine translation.'"
      ]
     },
     "execution_count": 89,
     "metadata": {},
     "output_type": "execute_result"
    }
   ],
   "source": [
    "query_db(vectordb_gpt,\"What is Natural language processing?\" , llm, {\"year\":1990})"
   ]
  },
  {
   "cell_type": "code",
   "execution_count": 90,
   "id": "92850303",
   "metadata": {
    "ExecuteTime": {
     "end_time": "2023-08-01T20:07:52.862666Z",
     "start_time": "2023-08-01T20:07:49.558326Z"
    }
   },
   "outputs": [
    {
     "data": {
      "text/plain": [
       "' Natural language processing (NLP) is a field of computer science, artificial intelligence, and linguistics concerned with the interactions between computers and human (natural) languages. It is used to build systems that can understand, interpret, and manipulate human language, including speech recognition, natural language understanding, and natural language generation.'"
      ]
     },
     "execution_count": 90,
     "metadata": {},
     "output_type": "execute_result"
    }
   ],
   "source": [
    "query_db(elasticdb_gpt,\"What is Natural language processing?\" , llm, {\"year\":1990})"
   ]
  },
  {
   "cell_type": "code",
   "execution_count": 91,
   "id": "7c440512",
   "metadata": {
    "ExecuteTime": {
     "end_time": "2023-08-01T20:07:54.779592Z",
     "start_time": "2023-08-01T20:07:52.869448Z"
    }
   },
   "outputs": [
    {
     "data": {
      "text/plain": [
       "\"Sorry, I don't know how to help with that.\""
      ]
     },
     "execution_count": 91,
     "metadata": {},
     "output_type": "execute_result"
    }
   ],
   "source": [
    "query_db(vectordb_gpt,\"What is BERT?\" , llm)"
   ]
  },
  {
   "cell_type": "code",
   "execution_count": 92,
   "id": "c004813d",
   "metadata": {
    "ExecuteTime": {
     "end_time": "2023-08-01T20:07:56.357436Z",
     "start_time": "2023-08-01T20:07:54.794462Z"
    }
   },
   "outputs": [
    {
     "data": {
      "text/plain": [
       "\"Sorry, I don't know how to help with that.\""
      ]
     },
     "execution_count": 92,
     "metadata": {},
     "output_type": "execute_result"
    }
   ],
   "source": [
    "query_db_relevance(vectordb_gpt,\"What is BERT?\" , llm)"
   ]
  },
  {
   "cell_type": "markdown",
   "id": "62b4a56c",
   "metadata": {},
   "source": [
    "## Updates"
   ]
  },
  {
   "cell_type": "code",
   "execution_count": 93,
   "id": "8d871770",
   "metadata": {
    "ExecuteTime": {
     "end_time": "2023-08-01T20:07:56.375705Z",
     "start_time": "2023-08-01T20:07:56.360300Z"
    }
   },
   "outputs": [],
   "source": [
    "new_papers = [{\n",
    "    \"title\": \"BERT: Pre-training of Deep Bidirectional Transformers for Language Understanding\",\n",
    "    \"authors\": \"Jacob Devlin, Ming-Wei Chang, Kenton Lee, Kristina Toutanova\",\n",
    "    \"year\": 2018,\n",
    "    \"paper_id\": 7301,\n",
    "    \"abstract\": \"\"\"We introduce a new language representation model called BERT, which stands for Bidirectional Encoder Representations from Transformers. Unlike recent language representation models, BERT is designed to pre-train deep bidirectional representations from unlabeled text by jointly conditioning on both left and right context in all layers. As a result, the pre-trained BERT model can be fine-tuned with just one additional output layer to create state-of-the-art models for a wide range of tasks, such as question answering and language inference, without substantial task-specific architecture modifications.\n",
    "BERT is conceptually simple and empirically powerful. It obtains new state-of-the-art results on eleven natural language processing tasks, including pushing the GLUE score to 80.5% (7.7% point absolute improvement), MultiNLI accuracy to 86.7% (4.6% absolute improvement), SQuAD v1.1 question answering Test F1 to 93.2 (1.5 point absolute improvement) and SQuAD v2.0 Test F1 to 83.1 (5.1 point absolute improvement).\n",
    "\"\"\"\n",
    "},\n",
    "  {\n",
    "      \"title\" : \"Evolution of transfer learning in natural language processing\",\n",
    "       \"authors\": \"Aditya Malte, Pratik Ratadiya\",\n",
    "      \"year\": 2019,\n",
    "       \"paper_id\": 7302,\n",
    "      \"abstract\": \"\"\"In this paper, we present a study of the recent advancements which have helped bring Transfer Learning to NLP through the use of semi-supervised training. We discuss cutting-edge methods and architectures such as BERT, GPT, ELMo, ULMFit among others. Classically, tasks in natural language processing have been performed through rule-based and statistical methodologies. However, owing to the vast nature of natural languages these methods do not generalise well and failed to learn the nuances of language. Thus machine learning algorithms such as Naive Bayes and decision trees coupled with traditional models such as Bag-of-Words and N-grams were used to usurp this problem. Eventually, with the advent of advanced recurrent neural network architectures such as the LSTM, we were able to achieve state-of-the-art performance in several natural language processing tasks such as text classification and machine translation. We talk about how Transfer Learning has brought about the well-known ImageNet moment for NLP. Several advanced architectures such as the Transformer and its variants have allowed practitioners to leverage knowledge gained from unrelated task to drastically fasten convergence and provide better performance on the target task. This survey represents an effort at providing a succinct yet complete understanding of the recent advances in natural language processing using deep learning in with a special focus on detailing transfer learning and its potential advantages.\n",
    "\"\"\"    \n",
    "  },\n",
    "  {\n",
    "       \"title\" : \"BERTQA -- Attention on Steroids\",\n",
    "       \"authors\": \"Ankit Chadha, Rewa Sood\",\n",
    "      \"year\": 2019,\n",
    "        \"paper_id\": 7303,\n",
    "      \"abstract\": \"\"\"In this work, we extend the Bidirectional Encoder Representations from Transformers (BERT) with an emphasis on directed coattention to obtain an improved F1 performance on the SQUAD2.0 dataset. The Transformer architecture on which BERT is based places hierarchical global attention on the concatenation of the context and query. Our additions to the BERT architecture augment this attention with a more focused context to query (C2Q) and query to context (Q2C) attention via a set of modified Transformer encoder units. In addition, we explore adding convolution-based feature extraction within the coattention architecture to add localized information to self-attention. We found that coattention significantly improves the no answer F1 by 4 points in the base and 1 point in the large architecture. After adding skip connections the no answer F1 improved further without causing an additional loss in has answer F1. The addition of localized feature extraction added to attention produced an overall dev F1 of 77.03 in the base architecture. We applied our findings to the large BERT model which contains twice as many layers and further used our own augmented version of the SQUAD 2.0 dataset created by back translation, which we have named SQUAD 2.Q. Finally, we performed hyperparameter tuning and ensembled our best models for a final F1/EM of 82.317/79.442 (Attention on Steroids, PCE Test Leaderboard).\n",
    "\"\"\"             \n",
    "  },\n",
    "    {\n",
    "        \"title\": \"BERT: A Review of Applications in Natural Language Processing and Understanding\",\n",
    "        \"authors\": \"Mikhail Koroteev\",\n",
    "        \"year\": 2021,\n",
    "        \"paper_id\": 7304,\n",
    "        \"abstract\": \"In this review, we describe the application of one of the most popular deep learning-based language models - BERT. The paper describes the mechanism of operation of this model, the main areas of its application to the tasks of text analytics, comparisons with similar models in each task, as well as a description of some proprietary models. In preparing this review, the data of several dozen original scientific articles published over the past few years, which attracted the most attention in the scientific community, were systematized. This survey will be useful to all students and researchers who want to get acquainted with the latest advances in the field of natural language text analysis.\"\n",
    "    }\n",
    "]"
   ]
  },
  {
   "cell_type": "code",
   "execution_count": 94,
   "id": "0981f3de",
   "metadata": {
    "ExecuteTime": {
     "end_time": "2023-08-01T20:07:56.412929Z",
     "start_time": "2023-08-01T20:07:56.377897Z"
    }
   },
   "outputs": [],
   "source": [
    "new_paper_df = pd.DataFrame(new_papers)"
   ]
  },
  {
   "cell_type": "code",
   "execution_count": 95,
   "id": "be2f0e47",
   "metadata": {
    "ExecuteTime": {
     "end_time": "2023-08-01T20:07:56.435548Z",
     "start_time": "2023-08-01T20:07:56.416008Z"
    }
   },
   "outputs": [
    {
     "data": {
      "text/html": [
       "<div>\n",
       "<style scoped>\n",
       "    .dataframe tbody tr th:only-of-type {\n",
       "        vertical-align: middle;\n",
       "    }\n",
       "\n",
       "    .dataframe tbody tr th {\n",
       "        vertical-align: top;\n",
       "    }\n",
       "\n",
       "    .dataframe thead th {\n",
       "        text-align: right;\n",
       "    }\n",
       "</style>\n",
       "<table border=\"1\" class=\"dataframe\">\n",
       "  <thead>\n",
       "    <tr style=\"text-align: right;\">\n",
       "      <th></th>\n",
       "      <th>title</th>\n",
       "      <th>authors</th>\n",
       "      <th>year</th>\n",
       "      <th>paper_id</th>\n",
       "      <th>abstract</th>\n",
       "    </tr>\n",
       "  </thead>\n",
       "  <tbody>\n",
       "    <tr>\n",
       "      <th>0</th>\n",
       "      <td>BERT: Pre-training of Deep Bidirectional Trans...</td>\n",
       "      <td>Jacob Devlin, Ming-Wei Chang, Kenton Lee, Kris...</td>\n",
       "      <td>2018</td>\n",
       "      <td>7301</td>\n",
       "      <td>We introduce a new language representation mod...</td>\n",
       "    </tr>\n",
       "    <tr>\n",
       "      <th>1</th>\n",
       "      <td>Evolution of transfer learning in natural lang...</td>\n",
       "      <td>Aditya Malte, Pratik Ratadiya</td>\n",
       "      <td>2019</td>\n",
       "      <td>7302</td>\n",
       "      <td>In this paper, we present a study of the recen...</td>\n",
       "    </tr>\n",
       "    <tr>\n",
       "      <th>2</th>\n",
       "      <td>BERTQA -- Attention on Steroids</td>\n",
       "      <td>Ankit Chadha, Rewa Sood</td>\n",
       "      <td>2019</td>\n",
       "      <td>7303</td>\n",
       "      <td>In this work, we extend the Bidirectional Enco...</td>\n",
       "    </tr>\n",
       "    <tr>\n",
       "      <th>3</th>\n",
       "      <td>BERT: A Review of Applications in Natural Lang...</td>\n",
       "      <td>Mikhail Koroteev</td>\n",
       "      <td>2021</td>\n",
       "      <td>7304</td>\n",
       "      <td>In this review, we describe the application of...</td>\n",
       "    </tr>\n",
       "  </tbody>\n",
       "</table>\n",
       "</div>"
      ],
      "text/plain": [
       "                                               title  \\\n",
       "0  BERT: Pre-training of Deep Bidirectional Trans...   \n",
       "1  Evolution of transfer learning in natural lang...   \n",
       "2                    BERTQA -- Attention on Steroids   \n",
       "3  BERT: A Review of Applications in Natural Lang...   \n",
       "\n",
       "                                             authors  year  paper_id  \\\n",
       "0  Jacob Devlin, Ming-Wei Chang, Kenton Lee, Kris...  2018      7301   \n",
       "1                      Aditya Malte, Pratik Ratadiya  2019      7302   \n",
       "2                            Ankit Chadha, Rewa Sood  2019      7303   \n",
       "3                                   Mikhail Koroteev  2021      7304   \n",
       "\n",
       "                                            abstract  \n",
       "0  We introduce a new language representation mod...  \n",
       "1  In this paper, we present a study of the recen...  \n",
       "2  In this work, we extend the Bidirectional Enco...  \n",
       "3  In this review, we describe the application of...  "
      ]
     },
     "execution_count": 95,
     "metadata": {},
     "output_type": "execute_result"
    }
   ],
   "source": [
    "new_paper_df"
   ]
  },
  {
   "cell_type": "code",
   "execution_count": 96,
   "id": "1dce5812",
   "metadata": {
    "ExecuteTime": {
     "end_time": "2023-08-01T20:07:56.445369Z",
     "start_time": "2023-08-01T20:07:56.438642Z"
    }
   },
   "outputs": [],
   "source": [
    "loader_new = DataFrameLoader(new_paper_df, page_content_column=\"abstract\")"
   ]
  },
  {
   "cell_type": "code",
   "execution_count": 117,
   "id": "f0a69bc6",
   "metadata": {
    "ExecuteTime": {
     "end_time": "2023-08-02T17:42:49.307849Z",
     "start_time": "2023-08-02T17:42:49.297729Z"
    }
   },
   "outputs": [],
   "source": [
    "# new_splits = sentence_spltter.split_documents(loader_new.load())"
   ]
  },
  {
   "cell_type": "code",
   "execution_count": 98,
   "id": "f2cad741",
   "metadata": {
    "ExecuteTime": {
     "end_time": "2023-08-01T20:07:58.343867Z",
     "start_time": "2023-08-01T20:07:56.485042Z"
    }
   },
   "outputs": [
    {
     "data": {
      "text/plain": [
       "['1af35606-30a7-11ee-a229-acde48001122',\n",
       " '1af357c8-30a7-11ee-a229-acde48001122',\n",
       " '1af3580e-30a7-11ee-a229-acde48001122',\n",
       " '1af35836-30a7-11ee-a229-acde48001122',\n",
       " '1af35854-30a7-11ee-a229-acde48001122',\n",
       " '1af3587c-30a7-11ee-a229-acde48001122',\n",
       " '1af3589a-30a7-11ee-a229-acde48001122',\n",
       " '1af358c2-30a7-11ee-a229-acde48001122',\n",
       " '1af358e0-30a7-11ee-a229-acde48001122',\n",
       " '1af358fe-30a7-11ee-a229-acde48001122',\n",
       " '1af3591c-30a7-11ee-a229-acde48001122',\n",
       " '1af35944-30a7-11ee-a229-acde48001122',\n",
       " '1af35962-30a7-11ee-a229-acde48001122',\n",
       " '1af35980-30a7-11ee-a229-acde48001122',\n",
       " '1af3599e-30a7-11ee-a229-acde48001122',\n",
       " '1af359bc-30a7-11ee-a229-acde48001122',\n",
       " '1af359da-30a7-11ee-a229-acde48001122',\n",
       " '1af359f8-30a7-11ee-a229-acde48001122',\n",
       " '1af35a16-30a7-11ee-a229-acde48001122',\n",
       " '1af35a3e-30a7-11ee-a229-acde48001122',\n",
       " '1af35a5c-30a7-11ee-a229-acde48001122',\n",
       " '1af35a84-30a7-11ee-a229-acde48001122',\n",
       " '1af35aa2-30a7-11ee-a229-acde48001122',\n",
       " '1af35ac0-30a7-11ee-a229-acde48001122',\n",
       " '1af35ade-30a7-11ee-a229-acde48001122',\n",
       " '1af35afc-30a7-11ee-a229-acde48001122',\n",
       " '1af35b1a-30a7-11ee-a229-acde48001122',\n",
       " '1af35b38-30a7-11ee-a229-acde48001122',\n",
       " '1af35b56-30a7-11ee-a229-acde48001122',\n",
       " '1af35b74-30a7-11ee-a229-acde48001122',\n",
       " '1af35b9c-30a7-11ee-a229-acde48001122']"
      ]
     },
     "execution_count": 98,
     "metadata": {},
     "output_type": "execute_result"
    }
   ],
   "source": [
    "vectordb_gpt.add_documents(loader_new.load())"
   ]
  },
  {
   "cell_type": "code",
   "execution_count": 99,
   "id": "3ee1e8f3",
   "metadata": {
    "ExecuteTime": {
     "end_time": "2023-08-01T20:08:00.201176Z",
     "start_time": "2023-08-01T20:07:58.349933Z"
    }
   },
   "outputs": [
    {
     "data": {
      "text/plain": [
       "['b8c84f10-7f39-44a8-9cb9-8b39bb174c4e',\n",
       " '2d97f9ef-fbcd-4072-8657-fc0ccdbb08da',\n",
       " '55291316-f867-4959-9d12-a04e1870743d',\n",
       " '2e2e85e4-2d69-4e22-956a-4057816bb017',\n",
       " '49cf8438-ad45-46ef-a1fa-00ecb35ee386',\n",
       " 'f14253ac-150a-46f4-a0c0-faf1c693e6a4',\n",
       " 'd857314b-e0e6-467e-9916-a87b826f60c5',\n",
       " '8541d068-7ef9-4042-b7d6-d226f4d6c01f',\n",
       " 'b80a7ae8-bb1a-4701-9a6f-433bd8f7c38b',\n",
       " '5e69ac5e-50a4-4347-8f02-294f539e5acc',\n",
       " 'cdbb8a1e-b4d4-44c6-a4e6-4f846539b0b7',\n",
       " '4465ca98-31ca-4ced-b8b4-daa4759d1bbd',\n",
       " 'e3098a4b-dcfe-46f0-8d3d-e7f3985a2549',\n",
       " '00ae78b3-ba41-4716-a53f-6114da8212b1',\n",
       " '43ecb5f5-f644-4280-97f7-2095d1074836',\n",
       " 'cdf28626-cbd6-4fa7-b4c1-9f2166bdd968',\n",
       " 'fec1c2e6-7ddb-49df-bda9-43c780a83ef3',\n",
       " '2b3769d8-1a0b-47a3-bb9b-b777024b97ef',\n",
       " '773aa8cb-419f-4b41-a1c3-15d223e041c6',\n",
       " 'c3084d0b-dd12-42f0-a10b-87f97f0d25b4',\n",
       " '91d94b96-b71d-4ae7-9220-b7111fcb1865',\n",
       " '0daf1011-59c6-42f0-9da7-678f253fa3ab',\n",
       " '5126536d-2a19-4949-b74a-ec7a84d281ee',\n",
       " '8ad5cb93-456b-4d5d-be9e-4d38575491d3',\n",
       " 'a412459b-a77c-4b3b-8720-be4baf0b58f4',\n",
       " '9d607da8-f7b7-428f-9ac7-5e8e5bba6932',\n",
       " '3cd4ee7e-d5c7-48c9-9c47-dff4c9c7e56f',\n",
       " 'c9ef0160-0ad2-4a1b-b94f-93d1b317610f',\n",
       " '9842d519-fd36-40bd-8005-54ef3211d587',\n",
       " '78a38ff9-eea0-48db-80e3-c89227460230',\n",
       " 'd2eba1bc-d4ee-46a3-99fd-eacaf05e52cc']"
      ]
     },
     "execution_count": 99,
     "metadata": {},
     "output_type": "execute_result"
    }
   ],
   "source": [
    "elasticdb_gpt.add_documents(new_splits)"
   ]
  },
  {
   "cell_type": "code",
   "execution_count": 100,
   "id": "ffced776",
   "metadata": {
    "ExecuteTime": {
     "end_time": "2023-08-01T20:08:01.560517Z",
     "start_time": "2023-08-01T20:08:00.204092Z"
    }
   },
   "outputs": [
    {
     "data": {
      "text/plain": [
       "' BERT is a new language representation model called Bidirectional Encoder Representations from Transformers.'"
      ]
     },
     "execution_count": 100,
     "metadata": {},
     "output_type": "execute_result"
    }
   ],
   "source": [
    "query_db(vectordb_gpt,\"What is BERT?\" , llm)"
   ]
  },
  {
   "cell_type": "code",
   "execution_count": 101,
   "id": "1cd77b30",
   "metadata": {
    "ExecuteTime": {
     "end_time": "2023-08-01T20:08:03.636911Z",
     "start_time": "2023-08-01T20:08:01.563725Z"
    }
   },
   "outputs": [
    {
     "data": {
      "text/plain": [
       "' BERT is a new language representation model called Bidirectional Encoder Representations from Transformers.'"
      ]
     },
     "execution_count": 101,
     "metadata": {},
     "output_type": "execute_result"
    }
   ],
   "source": [
    "query_db_relevance(vectordb_gpt,\"What is BERT?\" , llm)"
   ]
  },
  {
   "cell_type": "code",
   "execution_count": 102,
   "id": "68327365",
   "metadata": {
    "ExecuteTime": {
     "end_time": "2023-08-01T20:08:05.146773Z",
     "start_time": "2023-08-01T20:08:03.640298Z"
    }
   },
   "outputs": [
    {
     "data": {
      "text/plain": [
       "' BERT is a new language representation model called Bidirectional Encoder Representations from Transformers.'"
      ]
     },
     "execution_count": 102,
     "metadata": {},
     "output_type": "execute_result"
    }
   ],
   "source": [
    "query_db(elasticdb_gpt,\"What is BERT?\" , llm)"
   ]
  },
  {
   "cell_type": "code",
   "execution_count": 103,
   "id": "40b596b8",
   "metadata": {
    "ExecuteTime": {
     "end_time": "2023-08-01T20:08:07.871009Z",
     "start_time": "2023-08-01T20:08:05.150523Z"
    }
   },
   "outputs": [
    {
     "data": {
      "text/plain": [
       "'BERT is an improvement because it achieved SQuAD v1.1 Test F1 to 88.4 (5 point absolute improvement) and SQuAD v2.0 Test F1 to 83.1 (5.1 point absolute improvement).'"
      ]
     },
     "execution_count": 103,
     "metadata": {},
     "output_type": "execute_result"
    }
   ],
   "source": [
    "query_db_relevance(vectordb_gpt,\"How is bert an improvement?\" , llm)"
   ]
  },
  {
   "cell_type": "markdown",
   "id": "ac19231e",
   "metadata": {},
   "source": [
    "## Generating Questions for Evaluations"
   ]
  },
  {
   "cell_type": "code",
   "execution_count": 104,
   "id": "f277d422",
   "metadata": {
    "ExecuteTime": {
     "end_time": "2023-08-01T20:08:07.879784Z",
     "start_time": "2023-08-01T20:08:07.875010Z"
    }
   },
   "outputs": [],
   "source": [
    "from langchain.chains import QAGenerationChain"
   ]
  },
  {
   "cell_type": "code",
   "execution_count": 105,
   "id": "a7736d34",
   "metadata": {
    "ExecuteTime": {
     "end_time": "2023-08-01T20:08:07.896997Z",
     "start_time": "2023-08-01T20:08:07.886009Z"
    }
   },
   "outputs": [],
   "source": [
    "from langchain.chat_models import ChatOpenAI\n",
    "from langchain.chains import QAGenerationChain\n",
    "\n",
    "chain = QAGenerationChain.from_llm(ChatOpenAI(temperature=0))"
   ]
  },
  {
   "cell_type": "code",
   "execution_count": 106,
   "id": "20dc09c6",
   "metadata": {
    "ExecuteTime": {
     "end_time": "2023-08-01T20:08:32.351558Z",
     "start_time": "2023-08-01T20:08:07.901019Z"
    }
   },
   "outputs": [],
   "source": [
    "questions = [chain.run(doc.page_content) for doc in docs[:10]]"
   ]
  },
  {
   "cell_type": "code",
   "execution_count": 107,
   "id": "a8e43877",
   "metadata": {
    "ExecuteTime": {
     "end_time": "2023-08-01T20:08:32.369176Z",
     "start_time": "2023-08-01T20:08:32.357531Z"
    }
   },
   "outputs": [
    {
     "data": {
      "text/plain": [
       "[[{'question': 'What is the purpose of non-negative matrix factorization (NMF)?',\n",
       "   'answer': 'NMF is a useful decomposition for multivariate data.'}],\n",
       " [{'question': 'What is the purpose of spike-triggered covariance method described in the text?',\n",
       "   'answer': 'The purpose of the spike-triggered covariance method is to retrieve suppressive components of the gain control signal in a neuron.'}],\n",
       " [{'question': 'What is the complexity class for determining whether a competitive posg has a positive-expected-reward strategy?',\n",
       "   'answer': 'The complexity class is nexp with an oracle for np.'}],\n",
       " [{'question': 'What is the main contribution of the presented algorithm?',\n",
       "   'answer': 'The main contribution of the presented algorithm is a polynomial algorithm for learning the structure of bounded-treewidth junction trees.'}],\n",
       " [{'question': 'What is the purpose of the local smoothness regularizer introduced in this paper?',\n",
       "   'answer': 'The purpose of the local smoothness regularizer is to improve the generalization and speed up the training of existing semi-supervised boosting algorithms.'}],\n",
       " [{'question': 'What is the purpose of the learning rule described in the text?',\n",
       "   'answer': 'The purpose of the learning rule is to optimize information bottleneck with spiking neurons.'}],\n",
       " [{'question': 'What did the study demonstrate about the combined model of face detection and low-level saliency?',\n",
       "   'answer': 'The combined model outperformed a low-level model in predicting locations humans fixate.'}],\n",
       " [{'question': 'What is the purpose of the infrastructure developed in this study?',\n",
       "   'answer': 'The purpose of the infrastructure is to automate the crawling, parsing, and storage of open source software code.'}],\n",
       " [{'question': 'What is the purpose of the model discussed in the text?',\n",
       "   'answer': 'The purpose of the model is to simulate the neural and hemodynamic activity underlying the observed blood oxygen level dependent (BOLD) signal in functional magnetic resonance imaging (fMRI).'}],\n",
       " [{'question': 'What is the purpose of independent component analysis (ICA)?',\n",
       "   'answer': 'The purpose of independent component analysis (ICA) is to decouple signals.'}]]"
      ]
     },
     "execution_count": 107,
     "metadata": {},
     "output_type": "execute_result"
    }
   ],
   "source": [
    "questions"
   ]
  },
  {
   "cell_type": "markdown",
   "id": "5b785909",
   "metadata": {},
   "source": [
    "## Chatting with your data: Final Demo"
   ]
  },
  {
   "cell_type": "code",
   "execution_count": 108,
   "id": "4e8daff1",
   "metadata": {
    "ExecuteTime": {
     "end_time": "2023-08-01T20:08:32.393935Z",
     "start_time": "2023-08-01T20:08:32.373918Z"
    }
   },
   "outputs": [],
   "source": [
    "from langchain.memory import ConversationBufferMemory\n",
    "memory = ConversationBufferMemory(\n",
    "    memory_key=\"chat_history\",\n",
    "    return_messages=True\n",
    ")"
   ]
  },
  {
   "cell_type": "code",
   "execution_count": 109,
   "id": "fbccf78d",
   "metadata": {
    "ExecuteTime": {
     "end_time": "2023-08-01T20:08:32.412808Z",
     "start_time": "2023-08-01T20:08:32.397498Z"
    }
   },
   "outputs": [],
   "source": [
    "from langchain.chains import ConversationalRetrievalChain\n",
    "\n",
    "\n",
    "retriever=vectordb_gpt.as_retriever()\n",
    "qa = ConversationalRetrievalChain.from_llm(\n",
    "    llm,\n",
    "    retriever=retriever,\n",
    "    memory=memory\n",
    ")"
   ]
  },
  {
   "cell_type": "code",
   "execution_count": 110,
   "id": "e797ac09",
   "metadata": {
    "ExecuteTime": {
     "end_time": "2023-08-01T20:08:35.053548Z",
     "start_time": "2023-08-01T20:08:32.415351Z"
    }
   },
   "outputs": [],
   "source": [
    "question = \"What is Natural language processing?\"\n",
    "result = qa({\"question\": question})"
   ]
  },
  {
   "cell_type": "code",
   "execution_count": 111,
   "id": "2a6ffbf3",
   "metadata": {
    "ExecuteTime": {
     "end_time": "2023-08-01T20:08:35.063557Z",
     "start_time": "2023-08-01T20:08:35.057810Z"
    }
   },
   "outputs": [
    {
     "data": {
      "text/plain": [
       "' Natural language processing is a field of computer science, artificial intelligence, and linguistics concerned with the interactions between computers and human (natural) languages. It involves tasks such as automatic speech recognition, natural language understanding, and natural language generation.'"
      ]
     },
     "execution_count": 111,
     "metadata": {},
     "output_type": "execute_result"
    }
   ],
   "source": [
    "result[\"answer\"]"
   ]
  },
  {
   "cell_type": "code",
   "execution_count": 112,
   "id": "fa5b9862",
   "metadata": {
    "ExecuteTime": {
     "end_time": "2023-08-01T20:08:37.916973Z",
     "start_time": "2023-08-01T20:08:35.066138Z"
    }
   },
   "outputs": [],
   "source": [
    "question = \"What are its real life applications?\"\n",
    "result2 = qa({\"question\": question})"
   ]
  },
  {
   "cell_type": "code",
   "execution_count": 113,
   "id": "38543a18",
   "metadata": {
    "ExecuteTime": {
     "end_time": "2023-08-01T20:08:37.947064Z",
     "start_time": "2023-08-01T20:08:37.932286Z"
    }
   },
   "outputs": [
    {
     "data": {
      "text/plain": [
       "' Natural Language Processing has many real-life applications, such as text classification, machine translation, question answering, dialog-based language learning, and syntactic parsing.'"
      ]
     },
     "execution_count": 113,
     "metadata": {},
     "output_type": "execute_result"
    }
   ],
   "source": [
    " result2[\"answer\"]"
   ]
  },
  {
   "cell_type": "code",
   "execution_count": 114,
   "id": "c0d9a92d",
   "metadata": {
    "ExecuteTime": {
     "end_time": "2023-08-01T20:08:37.966237Z",
     "start_time": "2023-08-01T20:08:37.953062Z"
    }
   },
   "outputs": [
    {
     "name": "stdout",
     "output_type": "stream",
     "text": [
      "gpt-3.5-turbo-0301\n"
     ]
    }
   ],
   "source": [
    "import datetime\n",
    "current_date = datetime.datetime.now().date()\n",
    "if current_date < datetime.date(2023, 9, 2):\n",
    "    llm_name = \"gpt-3.5-turbo-0301\"\n",
    "else:\n",
    "    llm_name = \"gpt-3.5-turbo\"\n",
    "print(llm_name)"
   ]
  },
  {
   "cell_type": "code",
   "execution_count": 115,
   "id": "332c134b",
   "metadata": {
    "ExecuteTime": {
     "end_time": "2023-08-01T20:08:41.261632Z",
     "start_time": "2023-08-01T20:08:37.968876Z"
    }
   },
   "outputs": [],
   "source": [
    "import gradio\n",
    "\n",
    "memory = ConversationBufferMemory(\n",
    "    memory_key=\"chat_history_ui\",\n",
    "    return_messages=True\n",
    ")\n",
    "retriever=vectordb_gpt.as_retriever()\n",
    "    \n",
    "qa = ConversationalRetrievalChain.from_llm(\n",
    "        llm=ChatOpenAI(model_name=llm_name, temperature=0), \n",
    "        chain_type=\"stuff\", \n",
    "        retriever=retriever, \n",
    "        return_source_documents=True\n",
    "    )\n",
    "\n",
    "def chat(message, history=None):\n",
    "    history = history or []\n",
    "    response = qa({\"question\": message, \"chat_history\":history})['answer']\n",
    "    history.append((message, response))\n",
    "    return history, history"
   ]
  },
  {
   "cell_type": "code",
   "execution_count": 116,
   "id": "3d71bb01",
   "metadata": {
    "ExecuteTime": {
     "end_time": "2023-08-01T20:08:51.342484Z",
     "start_time": "2023-08-01T20:08:41.264339Z"
    }
   },
   "outputs": [
    {
     "name": "stderr",
     "output_type": "stream",
     "text": [
      "/var/folders/3c/q4kkg14x6c9bg29754hkb_yr0000gn/T/ipykernel_63774/3380930186.py:2: GradioDeprecationWarning: The 'color_map' parameter has been deprecated.\n",
      "  chatbot = gradio.Chatbot(color_map=(\"green\", \"gray\"))\n",
      "/var/folders/3c/q4kkg14x6c9bg29754hkb_yr0000gn/T/ipykernel_63774/3380930186.py:3: GradioDeprecationWarning: `allow_screenshot` parameter is deprecated, and it has no effect\n",
      "  interface = gradio.Interface(\n"
     ]
    },
    {
     "name": "stdout",
     "output_type": "stream",
     "text": [
      "Running on local URL:  http://127.0.0.1:7860\n",
      "Running on public URL: https://2bda0dc3ea562c7408.gradio.live\n",
      "\n",
      "This share link expires in 72 hours. For free permanent hosting and GPU upgrades, run `gradio deploy` from Terminal to deploy to Spaces (https://huggingface.co/spaces)\n"
     ]
    },
    {
     "data": {
      "text/html": [
       "<div><iframe src=\"https://2bda0dc3ea562c7408.gradio.live\" width=\"100%\" height=\"500\" allow=\"autoplay; camera; microphone; clipboard-read; clipboard-write;\" frameborder=\"0\" allowfullscreen></iframe></div>"
      ],
      "text/plain": [
       "<IPython.core.display.HTML object>"
      ]
     },
     "metadata": {},
     "output_type": "display_data"
    },
    {
     "data": {
      "text/plain": []
     },
     "execution_count": 116,
     "metadata": {},
     "output_type": "execute_result"
    }
   ],
   "source": [
    "# collection.load()\n",
    "chatbot = gradio.Chatbot(color_map=(\"green\", \"gray\"))\n",
    "interface = gradio.Interface(\n",
    "    chat,\n",
    "    [\"text\", \"state\"],\n",
    "    [chatbot, \"state\"],\n",
    "    allow_screenshot=False,\n",
    "    allow_flagging=\"never\",\n",
    ")\n",
    "interface.launch(inline=True, share=True)\n"
   ]
  },
  {
   "cell_type": "markdown",
   "id": "38a4b990",
   "metadata": {},
   "source": [
    "There are two arch types bert vs gpt : People would want to describe focus on architechtures\n",
    "\n",
    "1)why aare we doing preprocessing?\n",
    "\n",
    "2) MMR vs similarity searching\n",
    "\n",
    "3) Run the notebooks in advance. \n",
    "\n",
    "\n",
    "4) What gradio is. Add Gradio in slide\n",
    "\n",
    "5) COntext optimization big data approaches in slides\n"
   ]
  },
  {
   "cell_type": "code",
   "execution_count": null,
   "id": "ead53220",
   "metadata": {},
   "outputs": [],
   "source": []
  },
  {
   "cell_type": "code",
   "execution_count": null,
   "id": "f271775b",
   "metadata": {},
   "outputs": [],
   "source": []
  }
 ],
 "metadata": {
  "kernelspec": {
   "display_name": "DatahackSummitSemanticSearch",
   "language": "python",
   "name": "datahacksummitsemanticsearch"
  },
  "language_info": {
   "codemirror_mode": {
    "name": "ipython",
    "version": 3
   },
   "file_extension": ".py",
   "mimetype": "text/x-python",
   "name": "python",
   "nbconvert_exporter": "python",
   "pygments_lexer": "ipython3",
   "version": "3.10.12"
  },
  "toc": {
   "base_numbering": 1,
   "nav_menu": {},
   "number_sections": true,
   "sideBar": true,
   "skip_h1_title": false,
   "title_cell": "Table of Contents",
   "title_sidebar": "Contents",
   "toc_cell": false,
   "toc_position": {
    "height": "calc(100% - 180px)",
    "left": "10px",
    "top": "150px",
    "width": "288px"
   },
   "toc_section_display": true,
   "toc_window_display": true
  },
  "varInspector": {
   "cols": {
    "lenName": 16,
    "lenType": 16,
    "lenVar": 40
   },
   "kernels_config": {
    "python": {
     "delete_cmd_postfix": "",
     "delete_cmd_prefix": "del ",
     "library": "var_list.py",
     "varRefreshCmd": "print(var_dic_list())"
    },
    "r": {
     "delete_cmd_postfix": ") ",
     "delete_cmd_prefix": "rm(",
     "library": "var_list.r",
     "varRefreshCmd": "cat(var_dic_list()) "
    }
   },
   "types_to_exclude": [
    "module",
    "function",
    "builtin_function_or_method",
    "instance",
    "_Feature"
   ],
   "window_display": false
  }
 },
 "nbformat": 4,
 "nbformat_minor": 5
}
